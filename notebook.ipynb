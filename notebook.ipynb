{
 "cells": [
  {
   "cell_type": "markdown",
   "metadata": {},
   "source": [
    "Se debe descargar el dataset del enlace https://www.kaggle.com/datasets/prepinstaprime/black-friday-sales-data"
   ]
  },
  {
   "cell_type": "markdown",
   "metadata": {},
   "source": [
    "# Exploración y limpieza"
   ]
  },
  {
   "cell_type": "code",
   "execution_count": 1,
   "metadata": {},
   "outputs": [],
   "source": [
    "import pandas\n",
    "\n",
    "sales_df = pandas.read_csv(\"./train.csv\")"
   ]
  },
  {
   "cell_type": "code",
   "execution_count": 2,
   "metadata": {},
   "outputs": [
    {
     "data": {
      "text/html": [
       "<div>\n",
       "<style scoped>\n",
       "    .dataframe tbody tr th:only-of-type {\n",
       "        vertical-align: middle;\n",
       "    }\n",
       "\n",
       "    .dataframe tbody tr th {\n",
       "        vertical-align: top;\n",
       "    }\n",
       "\n",
       "    .dataframe thead th {\n",
       "        text-align: right;\n",
       "    }\n",
       "</style>\n",
       "<table border=\"1\" class=\"dataframe\">\n",
       "  <thead>\n",
       "    <tr style=\"text-align: right;\">\n",
       "      <th></th>\n",
       "      <th>User_ID</th>\n",
       "      <th>Product_ID</th>\n",
       "      <th>Gender</th>\n",
       "      <th>Age</th>\n",
       "      <th>Occupation</th>\n",
       "      <th>City_Category</th>\n",
       "      <th>Stay_In_Current_City_Years</th>\n",
       "      <th>Marital_Status</th>\n",
       "      <th>Product_Category_1</th>\n",
       "      <th>Product_Category_2</th>\n",
       "      <th>Product_Category_3</th>\n",
       "      <th>Purchase</th>\n",
       "    </tr>\n",
       "  </thead>\n",
       "  <tbody>\n",
       "    <tr>\n",
       "      <th>0</th>\n",
       "      <td>1000001</td>\n",
       "      <td>P00069042</td>\n",
       "      <td>F</td>\n",
       "      <td>0-17</td>\n",
       "      <td>10</td>\n",
       "      <td>A</td>\n",
       "      <td>2</td>\n",
       "      <td>0</td>\n",
       "      <td>3</td>\n",
       "      <td>NaN</td>\n",
       "      <td>NaN</td>\n",
       "      <td>8370</td>\n",
       "    </tr>\n",
       "    <tr>\n",
       "      <th>1</th>\n",
       "      <td>1000001</td>\n",
       "      <td>P00248942</td>\n",
       "      <td>F</td>\n",
       "      <td>0-17</td>\n",
       "      <td>10</td>\n",
       "      <td>A</td>\n",
       "      <td>2</td>\n",
       "      <td>0</td>\n",
       "      <td>1</td>\n",
       "      <td>6.0</td>\n",
       "      <td>14.0</td>\n",
       "      <td>15200</td>\n",
       "    </tr>\n",
       "    <tr>\n",
       "      <th>2</th>\n",
       "      <td>1000001</td>\n",
       "      <td>P00087842</td>\n",
       "      <td>F</td>\n",
       "      <td>0-17</td>\n",
       "      <td>10</td>\n",
       "      <td>A</td>\n",
       "      <td>2</td>\n",
       "      <td>0</td>\n",
       "      <td>12</td>\n",
       "      <td>NaN</td>\n",
       "      <td>NaN</td>\n",
       "      <td>1422</td>\n",
       "    </tr>\n",
       "    <tr>\n",
       "      <th>3</th>\n",
       "      <td>1000001</td>\n",
       "      <td>P00085442</td>\n",
       "      <td>F</td>\n",
       "      <td>0-17</td>\n",
       "      <td>10</td>\n",
       "      <td>A</td>\n",
       "      <td>2</td>\n",
       "      <td>0</td>\n",
       "      <td>12</td>\n",
       "      <td>14.0</td>\n",
       "      <td>NaN</td>\n",
       "      <td>1057</td>\n",
       "    </tr>\n",
       "    <tr>\n",
       "      <th>4</th>\n",
       "      <td>1000002</td>\n",
       "      <td>P00285442</td>\n",
       "      <td>M</td>\n",
       "      <td>55+</td>\n",
       "      <td>16</td>\n",
       "      <td>C</td>\n",
       "      <td>4+</td>\n",
       "      <td>0</td>\n",
       "      <td>8</td>\n",
       "      <td>NaN</td>\n",
       "      <td>NaN</td>\n",
       "      <td>7969</td>\n",
       "    </tr>\n",
       "  </tbody>\n",
       "</table>\n",
       "</div>"
      ],
      "text/plain": [
       "   User_ID Product_ID Gender   Age  Occupation City_Category  \\\n",
       "0  1000001  P00069042      F  0-17          10             A   \n",
       "1  1000001  P00248942      F  0-17          10             A   \n",
       "2  1000001  P00087842      F  0-17          10             A   \n",
       "3  1000001  P00085442      F  0-17          10             A   \n",
       "4  1000002  P00285442      M   55+          16             C   \n",
       "\n",
       "  Stay_In_Current_City_Years  Marital_Status  Product_Category_1  \\\n",
       "0                          2               0                   3   \n",
       "1                          2               0                   1   \n",
       "2                          2               0                  12   \n",
       "3                          2               0                  12   \n",
       "4                         4+               0                   8   \n",
       "\n",
       "   Product_Category_2  Product_Category_3  Purchase  \n",
       "0                 NaN                 NaN      8370  \n",
       "1                 6.0                14.0     15200  \n",
       "2                 NaN                 NaN      1422  \n",
       "3                14.0                 NaN      1057  \n",
       "4                 NaN                 NaN      7969  "
      ]
     },
     "execution_count": 2,
     "metadata": {},
     "output_type": "execute_result"
    }
   ],
   "source": [
    "sales_df.head()"
   ]
  },
  {
   "cell_type": "code",
   "execution_count": 3,
   "metadata": {},
   "outputs": [
    {
     "name": "stdout",
     "output_type": "stream",
     "text": [
      "Dimensiones del dataset:\n",
      "\n",
      "(550068, 12)\n",
      "\n",
      "Tipos de las columnas y cantidad de valores únicos:\n",
      "\n",
      "                              dtype  uniques\n",
      "User_ID                       int64     5891\n",
      "Product_ID                   object     3631\n",
      "Gender                       object        2\n",
      "Age                          object        7\n",
      "Occupation                    int64       21\n",
      "City_Category                object        3\n",
      "Stay_In_Current_City_Years   object        5\n",
      "Marital_Status                int64        2\n",
      "Product_Category_1            int64       20\n",
      "Product_Category_2          float64       17\n",
      "Product_Category_3          float64       15\n",
      "Purchase                      int64    18105\n"
     ]
    }
   ],
   "source": [
    "print(\"Dimensiones del dataset:\\n\")\n",
    "print(sales_df.shape)\n",
    "print(\"\\nTipos de las columnas y cantidad de valores únicos:\\n\")\n",
    "\n",
    "column_types = sales_df.dtypes\n",
    "uniques = sales_df.nunique()\n",
    "\n",
    "column_summary = pandas.concat([column_types, uniques], axis=1, keys=[\"dtype\", \"uniques\"])\n",
    "\n",
    "print(column_summary)"
   ]
  },
  {
   "cell_type": "markdown",
   "metadata": {},
   "source": [
    "Observamos que el dataset no presenta columna de tipo identificador único, que las columnas `Gender`, `Age`, `City_Category` y `Stay_In_Current_City_Years` son categóricas de tipo objecto (string) y que `Occupation` y `Marital_Status` son categóricas codificadas como entero.\n"
   ]
  },
  {
   "cell_type": "markdown",
   "metadata": {},
   "source": [
    "Conteo absoluto y porcentual de valores nulos por columna."
   ]
  },
  {
   "cell_type": "code",
   "execution_count": 4,
   "metadata": {},
   "outputs": [
    {
     "name": "stdout",
     "output_type": "stream",
     "text": [
      "                             count   pct\n",
      "User_ID                          0  0.00\n",
      "Product_ID                       0  0.00\n",
      "Gender                           0  0.00\n",
      "Age                              0  0.00\n",
      "Occupation                       0  0.00\n",
      "City_Category                    0  0.00\n",
      "Stay_In_Current_City_Years       0  0.00\n",
      "Marital_Status                   0  0.00\n",
      "Product_Category_1               0  0.00\n",
      "Product_Category_2          173638  0.32\n",
      "Product_Category_3          383247  0.70\n",
      "Purchase                         0  0.00\n"
     ]
    }
   ],
   "source": [
    "nan_counts = sales_df.isnull().sum()\n",
    "nan_pct = round(nan_counts / len(sales_df), 2)\n",
    "\n",
    "nan_summary = pandas.concat([nan_counts, nan_pct], axis=1, keys=[\"count\", \"pct\"])\n",
    "\n",
    "print(nan_summary)"
   ]
  },
  {
   "cell_type": "markdown",
   "metadata": {},
   "source": [
    "Sólo las columnas `Product_Category_2` y `Product_Category_3` tienen valores nulos, 173.638 y 383.247, lo que representa un 32% y un 70% de valores nulos sobre el total de los datos, respectivamente."
   ]
  },
  {
   "cell_type": "code",
   "execution_count": 5,
   "metadata": {},
   "outputs": [
    {
     "data": {
      "text/plain": [
       "0"
      ]
     },
     "execution_count": 5,
     "metadata": {},
     "output_type": "execute_result"
    }
   ],
   "source": [
    "sales_df.duplicated().sum()"
   ]
  },
  {
   "cell_type": "markdown",
   "metadata": {},
   "source": [
    "El dataset no presenta columnas duplicadas."
   ]
  },
  {
   "cell_type": "code",
   "execution_count": 6,
   "metadata": {},
   "outputs": [
    {
     "name": "stdout",
     "output_type": "stream",
     "text": [
      "Valores únicos de las columnas Product_Category 1, 2 y 3:\n",
      "\n",
      "Product_Category_1\n",
      "[1, 2, 3, 4, 5, 6, 7, 8, 9, 10, 11, 12, 13, 14, 15, 16, 17, 18, 19, 20]\n",
      "Product_Category_2\n",
      "[nan, 2.0, 3.0, 4.0, 5.0, 6.0, 7.0, 8.0, 9.0, 10.0, 11.0, 12.0, 13.0, 14.0, 15.0, 16.0, 17.0, 18.0]\n",
      "Product_Category_3\n",
      "[nan, 3.0, 4.0, 5.0, 6.0, 8.0, 9.0, 10.0, 11.0, 12.0, 13.0, 14.0, 15.0, 16.0, 17.0, 18.0]\n"
     ]
    }
   ],
   "source": [
    "print(\"Valores únicos de las columnas Product_Category 1, 2 y 3:\\n\")\n",
    "\n",
    "print(\"Product_Category_1\")\n",
    "print(sorted(sales_df['Product_Category_1'].unique()))\n",
    "\n",
    "print(\"Product_Category_2\")\n",
    "print(sorted(sales_df['Product_Category_2'].unique()))\n",
    "\n",
    "print(\"Product_Category_3\")\n",
    "print(sorted(sales_df['Product_Category_3'].unique()))\n"
   ]
  },
  {
   "cell_type": "markdown",
   "metadata": {},
   "source": [
    "Como vimos antes, ProdCat1 es de tipo entero y no tiene valores nulos, mientras que ProdCat2 y ProdCat3 son de tipo flotante y sí tiene valores nulos. \n",
    "\n",
    "los valores de ProdCat1 van del 1 al 20;\n",
    "los de ProdCat 2, del 2 al 18;\n",
    "los de ProdCat 3, del 3 al 18 (saltándose el 7)."
   ]
  },
  {
   "cell_type": "code",
   "execution_count": 7,
   "metadata": {},
   "outputs": [
    {
     "name": "stdout",
     "output_type": "stream",
     "text": [
      "¿Todos los nulos en Product_Category_2 son también nulos en Product_Category_3?\n",
      "True\n",
      "¿Todos los nulos en Product_Category_3 son también nulos en Product_Category_2?\n",
      "False\n"
     ]
    }
   ],
   "source": [
    "condition_a = sales_df['Product_Category_2'].isnull() & sales_df['Product_Category_3'].notnull()\n",
    "all_nulls_in_2_are_null_in_3 = not condition_a.any()\n",
    "\n",
    "condition_b = sales_df['Product_Category_3'].isnull() & sales_df['Product_Category_2'].notnull()\n",
    "all_nulls_in_3_are_null_in_2 = not condition_b.any()\n",
    "\n",
    "print(\"¿Todos los nulos en Product_Category_2 son también nulos en Product_Category_3?\")\n",
    "print(all_nulls_in_2_are_null_in_3)\n",
    "\n",
    "print(\"¿Todos los nulos en Product_Category_3 son también nulos en Product_Category_2?\")\n",
    "print(all_nulls_in_3_are_null_in_2)"
   ]
  },
  {
   "cell_type": "code",
   "execution_count": 8,
   "metadata": {},
   "outputs": [
    {
     "name": "stdout",
     "output_type": "stream",
     "text": [
      "3 is null   False   True \n",
      "2 is null                \n",
      "False      166821  209609\n",
      "True            0  173638\n"
     ]
    }
   ],
   "source": [
    "# Tabla cruzada de valores nulos\n",
    "crosstab = pandas.crosstab(sales_df['Product_Category_2'].isnull(), sales_df['Product_Category_3'].isnull(), rownames=['2 is null'], colnames=['3 is null'])\n",
    "print(crosstab)"
   ]
  },
  {
   "cell_type": "code",
   "execution_count": 9,
   "metadata": {},
   "outputs": [
    {
     "name": "stdout",
     "output_type": "stream",
     "text": [
      "Correlación entre los nulos de ProdCat2 y ProdCat3: 0.45\n"
     ]
    }
   ],
   "source": [
    "null_pc2 = sales_df['Product_Category_2'].isnull().astype(int)\n",
    "null_pc3 = sales_df['Product_Category_3'].isnull().astype(int)\n",
    "\n",
    "# Calcular la correlación\n",
    "correlation = null_pc2.corr(null_pc3)\n",
    "print(f\"Correlación entre los nulos de ProdCat2 y ProdCat3: {round(correlation, 2)}\")"
   ]
  },
  {
   "cell_type": "markdown",
   "metadata": {},
   "source": [
    "# Preprocesamiento"
   ]
  },
  {
   "cell_type": "markdown",
   "metadata": {},
   "source": [
    "Creamos una copia del DataFrame para realizar el preprocesamiento sobre éste sin modificar al objeto original."
   ]
  },
  {
   "cell_type": "code",
   "execution_count": 10,
   "metadata": {},
   "outputs": [],
   "source": [
    "cleaned_sales = sales_df.copy()"
   ]
  },
  {
   "cell_type": "markdown",
   "metadata": {},
   "source": [
    "Codificamos las varibales categóricas en valores numéricos."
   ]
  },
  {
   "cell_type": "code",
   "execution_count": 11,
   "metadata": {},
   "outputs": [],
   "source": [
    "def generate_map(unique_values):\n",
    "    return {value: idx for idx, value in enumerate(unique_values)}"
   ]
  },
  {
   "cell_type": "code",
   "execution_count": 12,
   "metadata": {},
   "outputs": [
    {
     "name": "stdout",
     "output_type": "stream",
     "text": [
      "{'F': 0, 'M': 1}\n",
      "{'0-17': 0, '18-25': 1, '26-35': 2, '36-45': 3, '46-50': 4, '51-55': 5, '55+': 6}\n",
      "{'A': 0, 'B': 1, 'C': 2}\n",
      "{'0': 0, '1': 1, '2': 2, '3': 3, '4+': 4}\n"
     ]
    }
   ],
   "source": [
    "gender_uniques = sales_df['Gender'].unique()\n",
    "age_uniques = sorted(sales_df['Age'].unique())\n",
    "city_uniques = sorted(sales_df['City_Category'].unique())\n",
    "stay_in_city_uniques = sorted(sales_df['Stay_In_Current_City_Years'].unique())\n",
    "\n",
    "gender_map = generate_map(gender_uniques)\n",
    "age_map = generate_map(age_uniques)\n",
    "city_map = generate_map(city_uniques)\n",
    "stay_in_city_map = generate_map(stay_in_city_uniques)\n",
    "\n",
    "print(gender_map)\n",
    "print(age_map)\n",
    "print(city_map)\n",
    "print(stay_in_city_map)"
   ]
  },
  {
   "cell_type": "code",
   "execution_count": 13,
   "metadata": {},
   "outputs": [],
   "source": [
    "cleaned_sales['Gender'] = sales_df['Gender'].map(gender_map)\n",
    "cleaned_sales['Age'] = sales_df['Age'].map(age_map)\n",
    "cleaned_sales['City_Category'] = sales_df['City_Category'].map(city_map)\n",
    "cleaned_sales['Stay_In_Current_City_Years'] = sales_df['Stay_In_Current_City_Years'].map(stay_in_city_map)"
   ]
  },
  {
   "cell_type": "markdown",
   "metadata": {},
   "source": [
    "Verificamos que el Product_ID de todos los registros cumpla con la forma “carácter ´P´ seguido de dígitos (0-9)”."
   ]
  },
  {
   "cell_type": "code",
   "execution_count": 14,
   "metadata": {},
   "outputs": [
    {
     "name": "stdout",
     "output_type": "stream",
     "text": [
      "True\n"
     ]
    }
   ],
   "source": [
    "cumple_formato = sales_df['Product_ID'].str.match(r'^P\\d+$').all()\n",
    "\n",
    "print(cumple_formato) "
   ]
  },
  {
   "cell_type": "markdown",
   "metadata": {},
   "source": [
    "Como se cumple la condición, eliminamos la \"P\" y convertimos el valor a entero."
   ]
  },
  {
   "cell_type": "code",
   "execution_count": 15,
   "metadata": {},
   "outputs": [],
   "source": [
    "cleaned_sales['Product_ID'] = sales_df['Product_ID'].str[1:].astype('int64')"
   ]
  },
  {
   "cell_type": "code",
   "execution_count": 16,
   "metadata": {},
   "outputs": [
    {
     "data": {
      "text/html": [
       "<div>\n",
       "<style scoped>\n",
       "    .dataframe tbody tr th:only-of-type {\n",
       "        vertical-align: middle;\n",
       "    }\n",
       "\n",
       "    .dataframe tbody tr th {\n",
       "        vertical-align: top;\n",
       "    }\n",
       "\n",
       "    .dataframe thead th {\n",
       "        text-align: right;\n",
       "    }\n",
       "</style>\n",
       "<table border=\"1\" class=\"dataframe\">\n",
       "  <thead>\n",
       "    <tr style=\"text-align: right;\">\n",
       "      <th></th>\n",
       "      <th>User_ID</th>\n",
       "      <th>Product_ID</th>\n",
       "      <th>Gender</th>\n",
       "      <th>Age</th>\n",
       "      <th>Occupation</th>\n",
       "      <th>City_Category</th>\n",
       "      <th>Stay_In_Current_City_Years</th>\n",
       "      <th>Marital_Status</th>\n",
       "      <th>Product_Category_1</th>\n",
       "      <th>Product_Category_2</th>\n",
       "      <th>Product_Category_3</th>\n",
       "      <th>Purchase</th>\n",
       "    </tr>\n",
       "  </thead>\n",
       "  <tbody>\n",
       "    <tr>\n",
       "      <th>0</th>\n",
       "      <td>1000001</td>\n",
       "      <td>69042</td>\n",
       "      <td>0</td>\n",
       "      <td>0</td>\n",
       "      <td>10</td>\n",
       "      <td>0</td>\n",
       "      <td>2</td>\n",
       "      <td>0</td>\n",
       "      <td>3</td>\n",
       "      <td>NaN</td>\n",
       "      <td>NaN</td>\n",
       "      <td>8370</td>\n",
       "    </tr>\n",
       "    <tr>\n",
       "      <th>1</th>\n",
       "      <td>1000001</td>\n",
       "      <td>248942</td>\n",
       "      <td>0</td>\n",
       "      <td>0</td>\n",
       "      <td>10</td>\n",
       "      <td>0</td>\n",
       "      <td>2</td>\n",
       "      <td>0</td>\n",
       "      <td>1</td>\n",
       "      <td>6.0</td>\n",
       "      <td>14.0</td>\n",
       "      <td>15200</td>\n",
       "    </tr>\n",
       "    <tr>\n",
       "      <th>2</th>\n",
       "      <td>1000001</td>\n",
       "      <td>87842</td>\n",
       "      <td>0</td>\n",
       "      <td>0</td>\n",
       "      <td>10</td>\n",
       "      <td>0</td>\n",
       "      <td>2</td>\n",
       "      <td>0</td>\n",
       "      <td>12</td>\n",
       "      <td>NaN</td>\n",
       "      <td>NaN</td>\n",
       "      <td>1422</td>\n",
       "    </tr>\n",
       "    <tr>\n",
       "      <th>3</th>\n",
       "      <td>1000001</td>\n",
       "      <td>85442</td>\n",
       "      <td>0</td>\n",
       "      <td>0</td>\n",
       "      <td>10</td>\n",
       "      <td>0</td>\n",
       "      <td>2</td>\n",
       "      <td>0</td>\n",
       "      <td>12</td>\n",
       "      <td>14.0</td>\n",
       "      <td>NaN</td>\n",
       "      <td>1057</td>\n",
       "    </tr>\n",
       "    <tr>\n",
       "      <th>4</th>\n",
       "      <td>1000002</td>\n",
       "      <td>285442</td>\n",
       "      <td>1</td>\n",
       "      <td>6</td>\n",
       "      <td>16</td>\n",
       "      <td>2</td>\n",
       "      <td>4</td>\n",
       "      <td>0</td>\n",
       "      <td>8</td>\n",
       "      <td>NaN</td>\n",
       "      <td>NaN</td>\n",
       "      <td>7969</td>\n",
       "    </tr>\n",
       "  </tbody>\n",
       "</table>\n",
       "</div>"
      ],
      "text/plain": [
       "   User_ID  Product_ID  Gender  Age  Occupation  City_Category  \\\n",
       "0  1000001       69042       0    0          10              0   \n",
       "1  1000001      248942       0    0          10              0   \n",
       "2  1000001       87842       0    0          10              0   \n",
       "3  1000001       85442       0    0          10              0   \n",
       "4  1000002      285442       1    6          16              2   \n",
       "\n",
       "   Stay_In_Current_City_Years  Marital_Status  Product_Category_1  \\\n",
       "0                           2               0                   3   \n",
       "1                           2               0                   1   \n",
       "2                           2               0                  12   \n",
       "3                           2               0                  12   \n",
       "4                           4               0                   8   \n",
       "\n",
       "   Product_Category_2  Product_Category_3  Purchase  \n",
       "0                 NaN                 NaN      8370  \n",
       "1                 6.0                14.0     15200  \n",
       "2                 NaN                 NaN      1422  \n",
       "3                14.0                 NaN      1057  \n",
       "4                 NaN                 NaN      7969  "
      ]
     },
     "execution_count": 16,
     "metadata": {},
     "output_type": "execute_result"
    }
   ],
   "source": [
    "cleaned_sales.head()"
   ]
  },
  {
   "cell_type": "markdown",
   "metadata": {},
   "source": [
    "Analizamos los valores de las columnas `Product_Category_2` y `Product_Category_3` para realizar tratamiento de valores faltantes."
   ]
  },
  {
   "cell_type": "code",
   "execution_count": 17,
   "metadata": {},
   "outputs": [
    {
     "data": {
      "image/png": "[encoded data removed]",
      "text/plain": [
       "<Figure size 1500x3500 with 4 Axes>"
      ]
     },
     "metadata": {},
     "output_type": "display_data"
    }
   ],
   "source": [
    "from matplotlib import pyplot\n",
    "import seaborn\n",
    "\n",
    "columns_with_missing_values = ['Product_Category_2', 'Product_Category_3']\n",
    "\n",
    "pyplot.figure(figsize=(15, 35))\n",
    "\n",
    "for i, variable in enumerate(columns_with_missing_values, 1):\n",
    "    pyplot.subplot(10, 2, i*2-1)\n",
    "    seaborn.histplot(sales_df[variable], bins=20, kde=True, color='skyblue')\n",
    "    pyplot.title(f'Histograma de {variable}', fontsize=18)\n",
    "    pyplot.xlabel(variable, fontsize=18)\n",
    "    pyplot.ylabel('Frecuencia', fontsize=18)\n",
    "\n",
    "    pyplot.subplot(10, 2, i*2)\n",
    "    seaborn.boxplot(x=sales_df[variable], color='lightcoral')\n",
    "    pyplot.title(f'Boxplot de {variable}', fontsize=18)\n",
    "    pyplot.xlabel(variable, fontsize=18)\n",
    "\n",
    "pyplot.subplots_adjust(hspace=0.6)\n",
    "\n",
    "pyplot.tight_layout()\n",
    "pyplot.show()\n"
   ]
  },
  {
   "cell_type": "markdown",
   "metadata": {},
   "source": [
    "Dado que las columnas no tienen una distribución normal, se procede a imputar los valores nulos respecto a la mediana."
   ]
  },
  {
   "cell_type": "code",
   "execution_count": 19,
   "metadata": {},
   "outputs": [
    {
     "name": "stdout",
     "output_type": "stream",
     "text": [
      "   Product_Category_2  Product_Category_3\n",
      "0                   9                  14\n",
      "1                   6                  14\n",
      "2                   9                  14\n",
      "3                  14                  14\n",
      "4                   9                  14\n"
     ]
    }
   ],
   "source": [
    "from sklearn.impute import SimpleImputer\n",
    "import numpy\n",
    "\n",
    "imp_mean = SimpleImputer(missing_values=numpy.nan, strategy='median')\n",
    "\n",
    "cleaned_sales[columns_with_missing_values] = imp_mean.fit_transform(sales_df[columns_with_missing_values]).astype('int64')\n",
    "\n",
    "print(cleaned_sales[columns_with_missing_values].head())"
   ]
  },
  {
   "cell_type": "markdown",
   "metadata": {},
   "source": [
    "Categorización ordinal de la variable objetivo `Purchase`."
   ]
  },
  {
   "cell_type": "code",
   "execution_count": 20,
   "metadata": {},
   "outputs": [
    {
     "data": {
      "image/png": "[encoded data removed]",
      "text/plain": [
       "<Figure size 1500x3500 with 2 Axes>"
      ]
     },
     "metadata": {},
     "output_type": "display_data"
    }
   ],
   "source": [
    "from matplotlib import pyplot\n",
    "import seaborn\n",
    "\n",
    "pyplot.figure(figsize=(15, 35))\n",
    "\n",
    "for i, variable in enumerate(['Purchase'], 1):\n",
    "    pyplot.subplot(10, 2, i*2-1)\n",
    "    seaborn.histplot(sales_df[variable], bins=20, kde=True, color='skyblue')\n",
    "    pyplot.title(f'Histograma de {variable}', fontsize=18)\n",
    "    pyplot.xlabel(variable, fontsize=18)\n",
    "    pyplot.ylabel('Frecuencia', fontsize=18)\n",
    "\n",
    "    pyplot.subplot(10, 2, i*2)\n",
    "    seaborn.boxplot(x=sales_df[variable], color='lightcoral')\n",
    "    pyplot.title(f'Boxplot de {variable}', fontsize=18)\n",
    "    pyplot.xlabel(variable, fontsize=18)\n",
    "\n",
    "pyplot.subplots_adjust(hspace=0.6)\n",
    "\n",
    "pyplot.tight_layout()\n",
    "pyplot.show()"
   ]
  },
  {
   "cell_type": "code",
   "execution_count": 21,
   "metadata": {},
   "outputs": [
    {
     "name": "stdout",
     "output_type": "stream",
     "text": [
      "Mínimo: 12\n",
      "Máximo: 23961\n",
      "Media: 9263.968712959126\n",
      "Mediana: 8047.0\n"
     ]
    }
   ],
   "source": [
    "min_valor = sales_df['Purchase'].min()\n",
    "max_valor = sales_df['Purchase'].max()\n",
    "media = sales_df['Purchase'].mean()  \n",
    "mediana = sales_df['Purchase'].median() \n",
    "\n",
    "print(f\"Mínimo: {min_valor}\")\n",
    "print(f\"Máximo: {max_valor}\")\n",
    "print(f\"Media: {media}\")\n",
    "print(f\"Mediana: {mediana}\")"
   ]
  },
  {
   "cell_type": "markdown",
   "metadata": {},
   "source": [
    "Definimos los grupos de categorización en base a los cuartiles de la columna."
   ]
  },
  {
   "cell_type": "code",
   "execution_count": 22,
   "metadata": {},
   "outputs": [
    {
     "name": "stdout",
     "output_type": "stream",
     "text": [
      "0.25     5823.0\n",
      "0.50     8047.0\n",
      "0.75    12054.0\n",
      "Name: Purchase, dtype: float64\n"
     ]
    }
   ],
   "source": [
    "percentiles = sales_df[\"Purchase\"].quantile([0.25, 0.5, 0.75])\n",
    "\n",
    "print(percentiles)\n",
    "\n",
    "cleaned_sales[\"Purchase\"] = pandas.cut(\n",
    "    sales_df[\"Purchase\"],\n",
    "    bins=[\n",
    "        0,\n",
    "        percentiles[0.25],\n",
    "        percentiles[0.5],\n",
    "        percentiles[0.75],\n",
    "        sales_df[\"Purchase\"].max(),\n",
    "    ],\n",
    "    labels=[\"bajo\", \"medio-bajo\", \"medio-alto\", \"alto\"],\n",
    ")\n",
    "cleaned_sales[\"Purchase\"] = cleaned_sales[\"Purchase\"].cat.codes.astype(\"int64\")"
   ]
  },
  {
   "cell_type": "code",
   "execution_count": 23,
   "metadata": {},
   "outputs": [
    {
     "name": "stdout",
     "output_type": "stream",
     "text": [
      "                            dtype  uniques\n",
      "User_ID                     int64     5891\n",
      "Product_ID                  int64     3631\n",
      "Gender                      int64        2\n",
      "Age                         int64        7\n",
      "Occupation                  int64       21\n",
      "City_Category               int64        3\n",
      "Stay_In_Current_City_Years  int64        5\n",
      "Marital_Status              int64        2\n",
      "Product_Category_1          int64       20\n",
      "Product_Category_2          int64       17\n",
      "Product_Category_3          int64       15\n",
      "Purchase                    int64        4\n"
     ]
    }
   ],
   "source": [
    "column_types = cleaned_sales.dtypes\n",
    "uniques = cleaned_sales.nunique()\n",
    "\n",
    "column_summary = pandas.concat([column_types, uniques], axis=1, keys=[\"dtype\", \"uniques\"])\n",
    "\n",
    "print(column_summary)"
   ]
  },
  {
   "cell_type": "markdown",
   "metadata": {},
   "source": [
    "Con el DataFrame ya procesado a una matriz de valores enteros, procedemos a almacenarlo en el directorio de trabajo para luego utilizarlo para entrenar modelos."
   ]
  },
  {
   "cell_type": "code",
   "execution_count": 24,
   "metadata": {},
   "outputs": [],
   "source": [
    "# Guardar el DataFrame limpio como binario en el directorio\n",
    "cleaned_sales.to_pickle(\"cleaned_sales.pkl\")"
   ]
  },
  {
   "cell_type": "markdown",
   "metadata": {},
   "source": [
    "# Entrenamiento de modelos"
   ]
  },
  {
   "cell_type": "code",
   "execution_count": 25,
   "metadata": {},
   "outputs": [],
   "source": [
    "sales_train_data = pandas.read_pickle(\"cleaned_sales.pkl\")"
   ]
  },
  {
   "cell_type": "markdown",
   "metadata": {},
   "source": [
    "## División del dataset"
   ]
  },
  {
   "cell_type": "code",
   "execution_count": null,
   "metadata": {},
   "outputs": [],
   "source": [
    "y = sales_train_data.Purchase\n",
    "X = sales_train_data.drop('Purchase',axis = 1)"
   ]
  },
  {
   "cell_type": "code",
   "execution_count": 27,
   "metadata": {},
   "outputs": [],
   "source": [
    "from sklearn.preprocessing import Normalizer\n",
    "normalizer = Normalizer()\n",
    "\n",
    "X_normalized = normalizer.fit_transform(X)"
   ]
  },
  {
   "cell_type": "code",
   "execution_count": 28,
   "metadata": {},
   "outputs": [
    {
     "name": "stdout",
     "output_type": "stream",
     "text": [
      "Train: 440054\n",
      "Train: 440054\n",
      "Validation: 55007\n",
      "Validation: 55007\n",
      "Test: 55007\n",
      "Test: 55007\n"
     ]
    }
   ],
   "source": [
    "from sklearn.model_selection import train_test_split\n",
    "\n",
    "RANDOM_STATE = 42\n",
    "\n",
    "X_train, X_temp, y_train, y_temp = train_test_split(X_normalized, y, test_size=0.2, random_state=RANDOM_STATE, stratify=y)\n",
    "\n",
    "# División de temp en validation (50%) y test (50%), es decir, 10% cada uno del total\n",
    "X_val, X_test, y_val, y_test = train_test_split(X_temp, y_temp, test_size=0.5, random_state=RANDOM_STATE, stratify=y_temp)\n",
    "\n",
    "# Verificar tamaños\n",
    "print(f'Train: {len(X_train)}')\n",
    "print(f'Train: {len(y_train)}')\n",
    "print(f'Validation: {len(X_val)}')\n",
    "print(f'Validation: {len(y_val)}')\n",
    "print(f'Test: {len(X_test)}')\n",
    "print(f'Test: {len(y_test)}')"
   ]
  },
  {
   "cell_type": "markdown",
   "metadata": {},
   "source": [
    "## Red Neuronal Multicapa (MLP) con PyTorch"
   ]
  },
  {
   "cell_type": "code",
   "execution_count": 29,
   "metadata": {},
   "outputs": [],
   "source": [
    "import torch\n",
    "import torch.nn as nn\n",
    "import torch.optim as optim\n",
    "from torch.utils.data import DataLoader, TensorDataset"
   ]
  },
  {
   "cell_type": "markdown",
   "metadata": {},
   "source": [
    "Convertir datos de NumPy a Tensores"
   ]
  },
  {
   "cell_type": "code",
   "execution_count": null,
   "metadata": {},
   "outputs": [],
   "source": [
    "# Convertir datos a tensores\n",
    "X_train_tensor = torch.tensor(X_train, dtype=torch.float32)\n",
    "y_train_tensor = torch.tensor(y_train.values, dtype=torch.long)  # Para clasificación\n",
    "\n",
    "X_val_tensor = torch.tensor(X_val, dtype=torch.float32)\n",
    "y_val_tensor = torch.tensor(y_val.values, dtype=torch.long)\n",
    "\n",
    "X_test_tensor = torch.tensor(X_test, dtype=torch.float32)\n",
    "y_test_tensor = torch.tensor(y_test.values, dtype=torch.long)"
   ]
  },
  {
   "cell_type": "markdown",
   "metadata": {},
   "source": [
    "Crear DataLoader para manejar los datos"
   ]
  },
  {
   "cell_type": "code",
   "execution_count": null,
   "metadata": {},
   "outputs": [],
   "source": [
    "batch_size = 32  # How many samples per batch to load (default: 1).\n",
    "\n",
    "# Crear conjuntos de datos\n",
    "train_dataset = TensorDataset(X_train_tensor, y_train_tensor)\n",
    "val_dataset = TensorDataset(X_val_tensor, y_val_tensor)\n",
    "test_dataset = TensorDataset(X_test_tensor, y_test_tensor)\n",
    "\n",
    "# Crear DataLoaders\n",
    "train_loader = DataLoader(train_dataset, batch_size=batch_size, shuffle=True)\n",
    "val_loader = DataLoader(val_dataset, batch_size=batch_size, shuffle=False)\n",
    "test_loader = DataLoader(test_dataset, batch_size=batch_size, shuffle=False)"
   ]
  },
  {
   "cell_type": "markdown",
   "metadata": {},
   "source": [
    "Definir la arquitectura del MLP"
   ]
  },
  {
   "cell_type": "code",
   "execution_count": 88,
   "metadata": {},
   "outputs": [],
   "source": [
    "class MLP(nn.Module):\n",
    "    def __init__(self, input_size, hidden_size, output_size, dropout_prob=0.5):\n",
    "        super(MLP, self).__init__()\n",
    "        self.model = nn.Sequential(\n",
    "            nn.Linear(input_size, hidden_size),\n",
    "            nn.ReLU(),\n",
    "            nn.Dropout(dropout_prob),\n",
    "            nn.Linear(hidden_size, hidden_size),\n",
    "            nn.ReLU(),\n",
    "            nn.Dropout(dropout_prob),\n",
    "            nn.Linear(hidden_size, hidden_size),\n",
    "            nn.ReLU(),\n",
    "            nn.Dropout(dropout_prob),\n",
    "            nn.Linear(hidden_size, output_size)\n",
    "        )\n",
    "\n",
    "    def forward(self, x):\n",
    "        return self.model(x)\n",
    "\n",
    "# Parámetros de la red\n",
    "input_size = X_train.shape[1]       # Número de características de entrada = 11 columnas \n",
    "hidden_size = 64                    # Número de neuronas en las capas ocultas\n",
    "output_size = len(y_train.unique()) # Número de clases = 4 valores únicos de Purchase\n",
    "dropout_prob = 0.3\n",
    "\n",
    "# Inicializar modelo\n",
    "model = MLP(input_size, hidden_size, output_size, dropout_prob)"
   ]
  },
  {
   "cell_type": "markdown",
   "metadata": {},
   "source": [
    "Configurar función de pérdida y optimizador"
   ]
  },
  {
   "cell_type": "code",
   "execution_count": 84,
   "metadata": {},
   "outputs": [],
   "source": [
    "criterion = nn.CrossEntropyLoss()  # Para clasificación multiclase\n",
    "optimizer = optim.Adam(model.parameters(), lr=0.001)"
   ]
  },
  {
   "cell_type": "markdown",
   "metadata": {},
   "source": [
    "Entrenar el modelo"
   ]
  },
  {
   "cell_type": "code",
   "execution_count": 89,
   "metadata": {},
   "outputs": [
    {
     "name": "stdout",
     "output_type": "stream",
     "text": [
      "Epoch [1/30], Loss: 1.3884\n",
      "Epoch [2/30], Loss: 1.3884\n",
      "Epoch [3/30], Loss: 1.3885\n",
      "Epoch [4/30], Loss: 1.3885\n",
      "Epoch [5/30], Loss: 1.3884\n",
      "Epoch [6/30], Loss: 1.3884\n",
      "Epoch [7/30], Loss: 1.3885\n",
      "Epoch [8/30], Loss: 1.3884\n",
      "Epoch [9/30], Loss: 1.3884\n",
      "Epoch [10/30], Loss: 1.3883\n",
      "Epoch [11/30], Loss: 1.3885\n",
      "Epoch [12/30], Loss: 1.3884\n",
      "Epoch [13/30], Loss: 1.3885\n",
      "Epoch [14/30], Loss: 1.3884\n",
      "Epoch [15/30], Loss: 1.3884\n",
      "Epoch [16/30], Loss: 1.3885\n",
      "Epoch [17/30], Loss: 1.3884\n",
      "Epoch [18/30], Loss: 1.3884\n",
      "Epoch [19/30], Loss: 1.3885\n",
      "Epoch [20/30], Loss: 1.3885\n",
      "Epoch [21/30], Loss: 1.3884\n",
      "Epoch [22/30], Loss: 1.3885\n",
      "Epoch [23/30], Loss: 1.3883\n",
      "Epoch [24/30], Loss: 1.3885\n",
      "Epoch [25/30], Loss: 1.3885\n",
      "Epoch [26/30], Loss: 1.3884\n",
      "Epoch [27/30], Loss: 1.3885\n",
      "Epoch [28/30], Loss: 1.3885\n",
      "Epoch [29/30], Loss: 1.3883\n",
      "Epoch [30/30], Loss: 1.3885\n"
     ]
    }
   ],
   "source": [
    "num_epochs = 30  # Ajustable\n",
    "\n",
    "for epoch in range(num_epochs):\n",
    "    model.train()\n",
    "    total_loss = 0\n",
    "\n",
    "    for X_batch, y_batch in train_loader:\n",
    "        optimizer.zero_grad()  # Resetear gradientes\n",
    "        outputs = model(X_batch)  # Forward pass\n",
    "        loss = criterion(outputs, y_batch)  # Calcular pérdida\n",
    "        loss.backward()  # Backpropagation\n",
    "        optimizer.step()  # Actualizar pesos\n",
    "        \n",
    "        total_loss += loss.item()\n",
    "\n",
    "    avg_loss = total_loss / len(train_loader)\n",
    "    print(f\"Epoch [{epoch+1}/{num_epochs}], Loss: {avg_loss:.4f}\")"
   ]
  },
  {
   "cell_type": "markdown",
   "metadata": {},
   "source": [
    "Evaluar el modelo"
   ]
  },
  {
   "cell_type": "code",
   "execution_count": 90,
   "metadata": {},
   "outputs": [
    {
     "name": "stdout",
     "output_type": "stream",
     "text": [
      "Train Accuracy: 0.2499\n",
      "Validation Accuracy: 0.2499\n"
     ]
    }
   ],
   "source": [
    "def evaluate_model(model, loader):\n",
    "    model.eval()\n",
    "    correct, total = 0, 0\n",
    "    with torch.no_grad():\n",
    "        for X_batch, y_batch in loader:\n",
    "            outputs = model(X_batch)\n",
    "            _, predicted = torch.max(outputs, 1)\n",
    "            total += y_batch.size(0)\n",
    "            correct += (predicted == y_batch).sum().item()\n",
    "    return correct / total\n",
    "\n",
    "train_acc = evaluate_model(model, train_loader)\n",
    "val_acc = evaluate_model(model, val_loader)\n",
    "\n",
    "print(f\"Train Accuracy: {train_acc:.4f}\")\n",
    "print(f\"Validation Accuracy: {val_acc:.4f}\")"
   ]
  },
  {
   "cell_type": "markdown",
   "metadata": {},
   "source": [
    "Prueba final con el conjunto de test"
   ]
  },
  {
   "cell_type": "code",
   "execution_count": 91,
   "metadata": {},
   "outputs": [
    {
     "name": "stdout",
     "output_type": "stream",
     "text": [
      "Test Accuracy: 0.2499\n"
     ]
    }
   ],
   "source": [
    "test_acc = evaluate_model(model, test_loader)\n",
    "print(f\"Test Accuracy: {test_acc:.4f}\")"
   ]
  },
  {
   "cell_type": "markdown",
   "metadata": {},
   "source": [
    "## 2do Modelo"
   ]
  },
  {
   "cell_type": "code",
   "execution_count": 41,
   "metadata": {},
   "outputs": [],
   "source": [
    "import torch.nn as nn\n",
    "\n",
    "class MLPModel(nn.Module):\n",
    "    def __init__(self, input_size, hidden_size, output_size):\n",
    "        super(MLPModel, self).__init__()\n",
    "        self.fc1 = nn.Linear(input_size, hidden_size)\n",
    "        self.fc2 = nn.Linear(hidden_size, hidden_size)\n",
    "        self.fc3 = nn.Linear(hidden_size, output_size)\n",
    "        self.relu = nn.ReLU()\n",
    "        self.softmax = nn.Softmax(dim=1)\n",
    "    \n",
    "    def forward(self, x):\n",
    "        x = self.relu(self.fc1(x))\n",
    "        x = self.relu(self.fc2(x))\n",
    "        x = self.fc3(x)\n",
    "        return self.softmax(x)\n",
    "\n",
    "# Definir el tamaño de entrada, salida y capa oculta\n",
    "input_size = X_train.shape[1]  # Número de características\n",
    "hidden_size = 128  # Tamaño arbitrario de la capa oculta\n",
    "output_size = len(y.unique())  # Número de clases (valores únicos de y)\n",
    "\n",
    "# Crear el modelo\n",
    "model = MLPModel(input_size, hidden_size, output_size)"
   ]
  },
  {
   "cell_type": "code",
   "execution_count": 42,
   "metadata": {},
   "outputs": [
    {
     "name": "stdout",
     "output_type": "stream",
     "text": [
      "Epoch [1/10], Train Loss: 1.3863, Val Loss: 1.3863, Val Accuracy: 24.99%\n",
      "Epoch [2/10], Train Loss: 1.3863, Val Loss: 1.3863, Val Accuracy: 24.99%\n",
      "Epoch [3/10], Train Loss: 1.3863, Val Loss: 1.3863, Val Accuracy: 24.99%\n",
      "Epoch [4/10], Train Loss: 1.3863, Val Loss: 1.3863, Val Accuracy: 24.99%\n",
      "Epoch [5/10], Train Loss: 1.3863, Val Loss: 1.3863, Val Accuracy: 24.99%\n",
      "Epoch [6/10], Train Loss: 1.3863, Val Loss: 1.3863, Val Accuracy: 24.99%\n",
      "Epoch [7/10], Train Loss: 1.3863, Val Loss: 1.3863, Val Accuracy: 24.99%\n",
      "Epoch [8/10], Train Loss: 1.3863, Val Loss: 1.3863, Val Accuracy: 24.99%\n",
      "Epoch [9/10], Train Loss: 1.3863, Val Loss: 1.3863, Val Accuracy: 24.99%\n",
      "Epoch [10/10], Train Loss: 1.3863, Val Loss: 1.3863, Val Accuracy: 24.99%\n"
     ]
    }
   ],
   "source": [
    "num_epochs = 10\n",
    "\n",
    "for epoch in range(num_epochs):\n",
    "    model.train()\n",
    "    running_loss = 0.0\n",
    "    for inputs, labels in train_loader:\n",
    "        optimizer.zero_grad()  # Limpiar los gradientes\n",
    "        outputs = model(inputs)  # Forward pass\n",
    "        loss = criterion(outputs, labels)  # Calcular la pérdida\n",
    "        loss.backward()  # Retropropagación\n",
    "        optimizer.step()  # Optimización\n",
    "        \n",
    "        running_loss += loss.item()\n",
    "    \n",
    "    # Calcular la pérdida promedio por época\n",
    "    epoch_loss = running_loss / len(train_loader)\n",
    "    \n",
    "    # Validación\n",
    "    model.eval()\n",
    "    val_loss = 0.0\n",
    "    correct = 0\n",
    "    total = 0\n",
    "    with torch.no_grad():\n",
    "        for inputs, labels in val_loader:\n",
    "            outputs = model(inputs)\n",
    "            loss = criterion(outputs, labels)\n",
    "            val_loss += loss.item()\n",
    "            _, predicted = torch.max(outputs, 1)\n",
    "            total += labels.size(0)\n",
    "            correct += (predicted == labels).sum().item()\n",
    "    \n",
    "    val_loss = val_loss / len(val_loader)\n",
    "    accuracy = 100 * correct / total\n",
    "    print(f\"Epoch [{epoch+1}/{num_epochs}], Train Loss: {epoch_loss:.4f}, Val Loss: {val_loss:.4f}, Val Accuracy: {accuracy:.2f}%\")"
   ]
  },
  {
   "cell_type": "code",
   "execution_count": 43,
   "metadata": {},
   "outputs": [
    {
     "name": "stdout",
     "output_type": "stream",
     "text": [
      "Test Loss: 1.3863, Test Accuracy: 24.99%\n"
     ]
    }
   ],
   "source": [
    "model.eval()\n",
    "test_loss = 0.0\n",
    "correct = 0\n",
    "total = 0\n",
    "with torch.no_grad():\n",
    "    for inputs, labels in test_loader:\n",
    "        outputs = model(inputs)\n",
    "        loss = criterion(outputs, labels)\n",
    "        test_loss += loss.item()\n",
    "        _, predicted = torch.max(outputs, 1)\n",
    "        total += labels.size(0)\n",
    "        correct += (predicted == labels).sum().item()\n",
    "\n",
    "test_loss = test_loss / len(test_loader)\n",
    "test_accuracy = 100 * correct / total\n",
    "print(f\"Test Loss: {test_loss:.4f}, Test Accuracy: {test_accuracy:.2f}%\")\n"
   ]
  },
  {
   "cell_type": "markdown",
   "metadata": {},
   "source": [
    "## 3er modelo"
   ]
  },
  {
   "cell_type": "code",
   "execution_count": 44,
   "metadata": {},
   "outputs": [],
   "source": [
    "from sklearn.preprocessing import StandardScaler\n",
    "scaler = StandardScaler()\n",
    "X_train = scaler.fit_transform(X_train)\n",
    "X_val = scaler.transform(X_val)\n",
    "X_test = scaler.transform(X_test)\n"
   ]
  },
  {
   "cell_type": "code",
   "execution_count": 45,
   "metadata": {},
   "outputs": [],
   "source": [
    "\n",
    "\n",
    "class MLP(nn.Module):\n",
    "    def __init__(self, input_size, hidden_size, output_size):\n",
    "        super(MLP, self).__init__()\n",
    "        self.model = nn.Sequential(\n",
    "            nn.Linear(input_size, hidden_size),\n",
    "            nn.ReLU(),\n",
    "            nn.Dropout(p=0.5),  # Dropout con probabilidad de 0.5\n",
    "            nn.Linear(hidden_size, hidden_size),\n",
    "            nn.ReLU(),\n",
    "            nn.Dropout(p=0.5),\n",
    "            nn.Linear(hidden_size, output_size)\n",
    "        )\n",
    "\n",
    "    def forward(self, x):\n",
    "        return self.model(x)\n",
    "\n",
    "# Parámetros de la red\n",
    "input_size = X_train.shape[1]  # Número de características\n",
    "hidden_size = 64  # Ajustable\n",
    "output_size = len(y_train.unique())  # Número de clases\n",
    "\n",
    "# Inicializar modelo\n",
    "model = MLP(input_size, hidden_size, output_size)\n"
   ]
  },
  {
   "cell_type": "code",
   "execution_count": 46,
   "metadata": {},
   "outputs": [],
   "source": [
    "optimizer = optim.Adam(model.parameters(), lr=0.001, weight_decay=1e-5)\n"
   ]
  },
  {
   "cell_type": "code",
   "execution_count": 50,
   "metadata": {},
   "outputs": [
    {
     "name": "stdout",
     "output_type": "stream",
     "text": [
      "Epoch [1/30], Loss: 1.3827\n",
      "Epoch [2/30], Loss: 1.3805\n",
      "Epoch [3/30], Loss: 1.3795\n",
      "Epoch [4/30], Loss: 1.3792\n",
      "Epoch [5/30], Loss: 1.3785\n",
      "Epoch [6/30], Loss: 1.3779\n",
      "Epoch [7/30], Loss: 1.3774\n",
      "Epoch [8/30], Loss: 1.3773\n",
      "Epoch [9/30], Loss: 1.3768\n",
      "Epoch [10/30], Loss: 1.3767\n",
      "Epoch [11/30], Loss: 1.3769\n",
      "Epoch [12/30], Loss: 1.3777\n",
      "Epoch [13/30], Loss: 1.3779\n",
      "Epoch [14/30], Loss: 1.3770\n",
      "Epoch [15/30], Loss: 1.3763\n",
      "Epoch [16/30], Loss: 1.3762\n",
      "Epoch [17/30], Loss: 1.3770\n",
      "Epoch [18/30], Loss: 1.3764\n",
      "Epoch [19/30], Loss: 1.3762\n",
      "Epoch [20/30], Loss: 1.3760\n",
      "Epoch [21/30], Loss: 1.3758\n",
      "Epoch [22/30], Loss: 1.3759\n",
      "Epoch [23/30], Loss: 1.3760\n",
      "Epoch [24/30], Loss: 1.3759\n",
      "Epoch [25/30], Loss: 1.3777\n",
      "Epoch [26/30], Loss: 1.3768\n",
      "Epoch [27/30], Loss: 1.3757\n",
      "Epoch [28/30], Loss: 1.3758\n",
      "Epoch [29/30], Loss: 1.3756\n",
      "Epoch [30/30], Loss: 1.3754\n"
     ]
    }
   ],
   "source": [
    "num_epochs = 30  # Ajustable\n",
    "\n",
    "for epoch in range(num_epochs):\n",
    "    model.train()\n",
    "    total_loss = 0\n",
    "\n",
    "    for X_batch, y_batch in train_loader:\n",
    "        optimizer.zero_grad()  # Resetear gradientes\n",
    "        outputs = model(X_batch)  # Forward pass\n",
    "        loss = criterion(outputs, y_batch)  # Calcular pérdida\n",
    "        loss.backward()  # Backpropagation\n",
    "        optimizer.step()  # Actualizar pesos\n",
    "        \n",
    "        total_loss += loss.item()\n",
    "\n",
    "    avg_loss = total_loss / len(train_loader)\n",
    "    print(f\"Epoch [{epoch+1}/{num_epochs}], Loss: {avg_loss:.4f}\")"
   ]
  },
  {
   "cell_type": "code",
   "execution_count": 51,
   "metadata": {},
   "outputs": [
    {
     "name": "stdout",
     "output_type": "stream",
     "text": [
      "Train Accuracy: 0.2838\n",
      "Validation Accuracy: 0.2820\n"
     ]
    }
   ],
   "source": [
    "def evaluate_model(model, loader):\n",
    "    model.eval()\n",
    "    correct, total = 0, 0\n",
    "    with torch.no_grad():\n",
    "        for X_batch, y_batch in loader:\n",
    "            outputs = model(X_batch)\n",
    "            _, predicted = torch.max(outputs, 1)\n",
    "            total += y_batch.size(0)\n",
    "            correct += (predicted == y_batch).sum().item()\n",
    "    return correct / total\n",
    "\n",
    "train_acc = evaluate_model(model, train_loader)\n",
    "val_acc = evaluate_model(model, val_loader)\n",
    "\n",
    "print(f\"Train Accuracy: {train_acc:.4f}\")\n",
    "print(f\"Validation Accuracy: {val_acc:.4f}\")"
   ]
  },
  {
   "cell_type": "code",
   "execution_count": 52,
   "metadata": {},
   "outputs": [
    {
     "name": "stdout",
     "output_type": "stream",
     "text": [
      "Test Accuracy: 0.2838\n"
     ]
    }
   ],
   "source": [
    "test_acc = evaluate_model(model, test_loader)\n",
    "print(f\"Test Accuracy: {test_acc:.4f}\")"
   ]
  }
 ],
 "metadata": {
  "kernelspec": {
   "display_name": "Python 3",
   "language": "python",
   "name": "python3"
  },
  "language_info": {
   "codemirror_mode": {
    "name": "ipython",
    "version": 3
   },
   "file_extension": ".py",
   "mimetype": "text/x-python",
   "name": "python",
   "nbconvert_exporter": "python",
   "pygments_lexer": "ipython3",
   "version": "3.11.0"
  }
 },
 "nbformat": 4,
 "nbformat_minor": 2
}
