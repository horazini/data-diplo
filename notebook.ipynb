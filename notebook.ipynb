{
 "cells": [
  {
   "cell_type": "markdown",
   "metadata": {
    "id": "3QH6_h4GF9GX"
   },
   "source": [
    "Se debe descargar el dataset del enlace https://www.kaggle.com/datasets/prepinstaprime/black-friday-sales-data"
   ]
  },
  {
   "cell_type": "markdown",
   "metadata": {
    "id": "M7jxmNehF9Ga"
   },
   "source": [
    "# Exploración y limpieza"
   ]
  },
  {
   "cell_type": "code",
   "execution_count": 119,
   "metadata": {
    "id": "02NsHtVqF9Ga"
   },
   "outputs": [],
   "source": [
    "# preprocessing\n",
    "import pandas\n",
    "import numpy\n",
    "\n",
    "# visualization\n",
    "from matplotlib import pyplot\n",
    "import seaborn\n",
    "\n",
    "# machine learing\n",
    "from sklearn.model_selection import train_test_split\n",
    "from sklearn.metrics import precision_score, accuracy_score, recall_score, f1_score, confusion_matrix\n",
    "from sklearn.impute import SimpleImputer\n",
    "from sklearn.preprocessing import Normalizer\n",
    "\n",
    "# deep learning\n",
    "import torch\n",
    "from torch import nn, optim\n",
    "from torch.utils.data import DataLoader, TensorDataset\n"
   ]
  },
  {
   "cell_type": "code",
   "execution_count": 120,
   "metadata": {
    "id": "k1opIiL4F9Gb"
   },
   "outputs": [],
   "source": [
    "sales_df = pandas.read_csv(\"./train.csv\")"
   ]
  },
  {
   "cell_type": "code",
   "execution_count": 121,
   "metadata": {
    "colab": {
     "base_uri": "https://localhost:8080/",
     "height": 295
    },
    "id": "y3FvDHV9F9Gc",
    "outputId": "e1c6fbd9-04c4-441b-af3a-3a19baf1b7db"
   },
   "outputs": [
    {
     "data": {
      "text/html": [
       "<div>\n",
       "<style scoped>\n",
       "    .dataframe tbody tr th:only-of-type {\n",
       "        vertical-align: middle;\n",
       "    }\n",
       "\n",
       "    .dataframe tbody tr th {\n",
       "        vertical-align: top;\n",
       "    }\n",
       "\n",
       "    .dataframe thead th {\n",
       "        text-align: right;\n",
       "    }\n",
       "</style>\n",
       "<table border=\"1\" class=\"dataframe\">\n",
       "  <thead>\n",
       "    <tr style=\"text-align: right;\">\n",
       "      <th></th>\n",
       "      <th>User_ID</th>\n",
       "      <th>Product_ID</th>\n",
       "      <th>Gender</th>\n",
       "      <th>Age</th>\n",
       "      <th>Occupation</th>\n",
       "      <th>City_Category</th>\n",
       "      <th>Stay_In_Current_City_Years</th>\n",
       "      <th>Marital_Status</th>\n",
       "      <th>Product_Category_1</th>\n",
       "      <th>Product_Category_2</th>\n",
       "      <th>Product_Category_3</th>\n",
       "      <th>Purchase</th>\n",
       "    </tr>\n",
       "  </thead>\n",
       "  <tbody>\n",
       "    <tr>\n",
       "      <th>0</th>\n",
       "      <td>1000001</td>\n",
       "      <td>P00069042</td>\n",
       "      <td>F</td>\n",
       "      <td>0-17</td>\n",
       "      <td>10</td>\n",
       "      <td>A</td>\n",
       "      <td>2</td>\n",
       "      <td>0</td>\n",
       "      <td>3</td>\n",
       "      <td>NaN</td>\n",
       "      <td>NaN</td>\n",
       "      <td>8370</td>\n",
       "    </tr>\n",
       "    <tr>\n",
       "      <th>1</th>\n",
       "      <td>1000001</td>\n",
       "      <td>P00248942</td>\n",
       "      <td>F</td>\n",
       "      <td>0-17</td>\n",
       "      <td>10</td>\n",
       "      <td>A</td>\n",
       "      <td>2</td>\n",
       "      <td>0</td>\n",
       "      <td>1</td>\n",
       "      <td>6.0</td>\n",
       "      <td>14.0</td>\n",
       "      <td>15200</td>\n",
       "    </tr>\n",
       "    <tr>\n",
       "      <th>2</th>\n",
       "      <td>1000001</td>\n",
       "      <td>P00087842</td>\n",
       "      <td>F</td>\n",
       "      <td>0-17</td>\n",
       "      <td>10</td>\n",
       "      <td>A</td>\n",
       "      <td>2</td>\n",
       "      <td>0</td>\n",
       "      <td>12</td>\n",
       "      <td>NaN</td>\n",
       "      <td>NaN</td>\n",
       "      <td>1422</td>\n",
       "    </tr>\n",
       "    <tr>\n",
       "      <th>3</th>\n",
       "      <td>1000001</td>\n",
       "      <td>P00085442</td>\n",
       "      <td>F</td>\n",
       "      <td>0-17</td>\n",
       "      <td>10</td>\n",
       "      <td>A</td>\n",
       "      <td>2</td>\n",
       "      <td>0</td>\n",
       "      <td>12</td>\n",
       "      <td>14.0</td>\n",
       "      <td>NaN</td>\n",
       "      <td>1057</td>\n",
       "    </tr>\n",
       "    <tr>\n",
       "      <th>4</th>\n",
       "      <td>1000002</td>\n",
       "      <td>P00285442</td>\n",
       "      <td>M</td>\n",
       "      <td>55+</td>\n",
       "      <td>16</td>\n",
       "      <td>C</td>\n",
       "      <td>4+</td>\n",
       "      <td>0</td>\n",
       "      <td>8</td>\n",
       "      <td>NaN</td>\n",
       "      <td>NaN</td>\n",
       "      <td>7969</td>\n",
       "    </tr>\n",
       "  </tbody>\n",
       "</table>\n",
       "</div>"
      ],
      "text/plain": [
       "   User_ID Product_ID Gender   Age  Occupation City_Category  \\\n",
       "0  1000001  P00069042      F  0-17          10             A   \n",
       "1  1000001  P00248942      F  0-17          10             A   \n",
       "2  1000001  P00087842      F  0-17          10             A   \n",
       "3  1000001  P00085442      F  0-17          10             A   \n",
       "4  1000002  P00285442      M   55+          16             C   \n",
       "\n",
       "  Stay_In_Current_City_Years  Marital_Status  Product_Category_1  \\\n",
       "0                          2               0                   3   \n",
       "1                          2               0                   1   \n",
       "2                          2               0                  12   \n",
       "3                          2               0                  12   \n",
       "4                         4+               0                   8   \n",
       "\n",
       "   Product_Category_2  Product_Category_3  Purchase  \n",
       "0                 NaN                 NaN      8370  \n",
       "1                 6.0                14.0     15200  \n",
       "2                 NaN                 NaN      1422  \n",
       "3                14.0                 NaN      1057  \n",
       "4                 NaN                 NaN      7969  "
      ]
     },
     "execution_count": 121,
     "metadata": {},
     "output_type": "execute_result"
    }
   ],
   "source": [
    "sales_df.head()"
   ]
  },
  {
   "cell_type": "code",
   "execution_count": 122,
   "metadata": {
    "colab": {
     "base_uri": "https://localhost:8080/"
    },
    "id": "-xp2FjKhF9Gd",
    "outputId": "43a620af-0ff3-4e94-b8ed-3be259705eaa"
   },
   "outputs": [
    {
     "name": "stdout",
     "output_type": "stream",
     "text": [
      "Dimensiones del dataset:\n",
      "\n",
      "(550068, 12)\n",
      "\n",
      "Tipos de las columnas y cantidad de valores únicos:\n",
      "\n",
      "                              dtype  uniques\n",
      "User_ID                       int64     5891\n",
      "Product_ID                   object     3631\n",
      "Gender                       object        2\n",
      "Age                          object        7\n",
      "Occupation                    int64       21\n",
      "City_Category                object        3\n",
      "Stay_In_Current_City_Years   object        5\n",
      "Marital_Status                int64        2\n",
      "Product_Category_1            int64       20\n",
      "Product_Category_2          float64       17\n",
      "Product_Category_3          float64       15\n",
      "Purchase                      int64    18105\n"
     ]
    }
   ],
   "source": [
    "print(\"Dimensiones del dataset:\\n\")\n",
    "print(sales_df.shape)\n",
    "print(\"\\nTipos de las columnas y cantidad de valores únicos:\\n\")\n",
    "\n",
    "column_types = sales_df.dtypes\n",
    "uniques = sales_df.nunique()\n",
    "\n",
    "column_summary = pandas.concat([column_types, uniques], axis=1, keys=[\"dtype\", \"uniques\"])\n",
    "\n",
    "print(column_summary)"
   ]
  },
  {
   "cell_type": "markdown",
   "metadata": {
    "id": "mDcAHKy7F9Gd"
   },
   "source": [
    "Observamos que el dataset no presenta columna de tipo identificador único, que las columnas `Gender`, `Age`, `City_Category` y `Stay_In_Current_City_Years` son categóricas de tipo objecto (string) y que `Occupation` y `Marital_Status` son categóricas codificadas como entero.\n"
   ]
  },
  {
   "cell_type": "markdown",
   "metadata": {
    "id": "CpeJcLfsF9Ge"
   },
   "source": [
    "Conteo absoluto y porcentual de valores nulos por columna."
   ]
  },
  {
   "cell_type": "code",
   "execution_count": 123,
   "metadata": {
    "colab": {
     "base_uri": "https://localhost:8080/"
    },
    "id": "hJFJxcCKF9Ge",
    "outputId": "3bc84e28-0d53-473b-dcf6-849524b585a4"
   },
   "outputs": [
    {
     "name": "stdout",
     "output_type": "stream",
     "text": [
      "                             count   pct\n",
      "User_ID                          0  0.00\n",
      "Product_ID                       0  0.00\n",
      "Gender                           0  0.00\n",
      "Age                              0  0.00\n",
      "Occupation                       0  0.00\n",
      "City_Category                    0  0.00\n",
      "Stay_In_Current_City_Years       0  0.00\n",
      "Marital_Status                   0  0.00\n",
      "Product_Category_1               0  0.00\n",
      "Product_Category_2          173638  0.32\n",
      "Product_Category_3          383247  0.70\n",
      "Purchase                         0  0.00\n"
     ]
    }
   ],
   "source": [
    "nan_counts = sales_df.isnull().sum()\n",
    "nan_pct = round(nan_counts / len(sales_df), 2)\n",
    "\n",
    "nan_summary = pandas.concat([nan_counts, nan_pct], axis=1, keys=[\"count\", \"pct\"])\n",
    "\n",
    "print(nan_summary)"
   ]
  },
  {
   "cell_type": "markdown",
   "metadata": {
    "id": "oJdVETW1F9Gf"
   },
   "source": [
    "Sólo las columnas `Product_Category_2` y `Product_Category_3` tienen valores nulos, 173.638 y 383.247, lo que representa un 32% y un 70% de valores nulos sobre el total de los datos, respectivamente."
   ]
  },
  {
   "cell_type": "code",
   "execution_count": 124,
   "metadata": {
    "colab": {
     "base_uri": "https://localhost:8080/"
    },
    "id": "KFYowMnXF9Gf",
    "outputId": "27f58249-1689-46dc-8650-3040145f0ccf"
   },
   "outputs": [
    {
     "data": {
      "text/plain": [
       "0"
      ]
     },
     "execution_count": 124,
     "metadata": {},
     "output_type": "execute_result"
    }
   ],
   "source": [
    "sales_df.duplicated().sum()"
   ]
  },
  {
   "cell_type": "markdown",
   "metadata": {
    "id": "tZXAX91CF9Gf"
   },
   "source": [
    "El dataset no presenta columnas duplicadas."
   ]
  },
  {
   "cell_type": "code",
   "execution_count": 125,
   "metadata": {
    "colab": {
     "base_uri": "https://localhost:8080/"
    },
    "id": "lsZ4ldB8F9Gg",
    "outputId": "b9e721ba-a699-4af1-a7eb-94209eddd881"
   },
   "outputs": [
    {
     "name": "stdout",
     "output_type": "stream",
     "text": [
      "Valores únicos de las columnas Product_Category 1, 2 y 3:\n",
      "\n",
      "Product_Category_1\n",
      "[1, 2, 3, 4, 5, 6, 7, 8, 9, 10, 11, 12, 13, 14, 15, 16, 17, 18, 19, 20]\n",
      "Product_Category_2\n",
      "[nan, 2.0, 3.0, 4.0, 5.0, 6.0, 7.0, 8.0, 9.0, 10.0, 11.0, 12.0, 13.0, 14.0, 15.0, 16.0, 17.0, 18.0]\n",
      "Product_Category_3\n",
      "[nan, 3.0, 4.0, 5.0, 6.0, 8.0, 9.0, 10.0, 11.0, 12.0, 13.0, 14.0, 15.0, 16.0, 17.0, 18.0]\n"
     ]
    }
   ],
   "source": [
    "print(\"Valores únicos de las columnas Product_Category 1, 2 y 3:\\n\")\n",
    "\n",
    "print(\"Product_Category_1\")\n",
    "print(sorted(sales_df['Product_Category_1'].unique()))\n",
    "\n",
    "print(\"Product_Category_2\")\n",
    "print(sorted(sales_df['Product_Category_2'].unique()))\n",
    "\n",
    "print(\"Product_Category_3\")\n",
    "print(sorted(sales_df['Product_Category_3'].unique()))\n"
   ]
  },
  {
   "cell_type": "markdown",
   "metadata": {
    "id": "8-0G2Yq9F9Gg"
   },
   "source": [
    "Como vimos antes, ProdCat1 es de tipo entero y no tiene valores nulos, mientras que ProdCat2 y ProdCat3 son de tipo flotante y sí tiene valores nulos.\n",
    "\n",
    "los valores de ProdCat1 van del 1 al 20;\n",
    "los de ProdCat 2, del 2 al 18;\n",
    "los de ProdCat 3, del 3 al 18 (saltándose el 7)."
   ]
  },
  {
   "cell_type": "code",
   "execution_count": 126,
   "metadata": {
    "colab": {
     "base_uri": "https://localhost:8080/"
    },
    "id": "0ZEO7_UTF9Gg",
    "outputId": "78db0831-9fa0-4704-c883-210b74ce3093"
   },
   "outputs": [
    {
     "name": "stdout",
     "output_type": "stream",
     "text": [
      "¿Todos los nulos en Product_Category_2 son también nulos en Product_Category_3?\n",
      "True\n",
      "¿Todos los nulos en Product_Category_3 son también nulos en Product_Category_2?\n",
      "False\n"
     ]
    }
   ],
   "source": [
    "condition_a = sales_df['Product_Category_2'].isnull() & sales_df['Product_Category_3'].notnull()\n",
    "all_nulls_in_2_are_null_in_3 = not condition_a.any()\n",
    "\n",
    "condition_b = sales_df['Product_Category_3'].isnull() & sales_df['Product_Category_2'].notnull()\n",
    "all_nulls_in_3_are_null_in_2 = not condition_b.any()\n",
    "\n",
    "print(\"¿Todos los nulos en Product_Category_2 son también nulos en Product_Category_3?\")\n",
    "print(all_nulls_in_2_are_null_in_3)\n",
    "\n",
    "print(\"¿Todos los nulos en Product_Category_3 son también nulos en Product_Category_2?\")\n",
    "print(all_nulls_in_3_are_null_in_2)"
   ]
  },
  {
   "cell_type": "code",
   "execution_count": 127,
   "metadata": {
    "colab": {
     "base_uri": "https://localhost:8080/"
    },
    "id": "W2Lp9C17F9Gh",
    "outputId": "09c57233-a16d-4331-c5ae-5c3733246fd0"
   },
   "outputs": [
    {
     "name": "stdout",
     "output_type": "stream",
     "text": [
      "3 is null   False   True \n",
      "2 is null                \n",
      "False      166821  209609\n",
      "True            0  173638\n"
     ]
    }
   ],
   "source": [
    "# Tabla cruzada de valores nulos\n",
    "crosstab = pandas.crosstab(sales_df['Product_Category_2'].isnull(), sales_df['Product_Category_3'].isnull(), rownames=['2 is null'], colnames=['3 is null'])\n",
    "print(crosstab)"
   ]
  },
  {
   "cell_type": "code",
   "execution_count": 128,
   "metadata": {
    "colab": {
     "base_uri": "https://localhost:8080/"
    },
    "id": "ymOmGSvTF9Gh",
    "outputId": "19312fe6-d9f7-4169-875a-29d7a610a6a7"
   },
   "outputs": [
    {
     "name": "stdout",
     "output_type": "stream",
     "text": [
      "Correlación entre los nulos de ProdCat2 y ProdCat3: 0.45\n"
     ]
    }
   ],
   "source": [
    "null_pc2 = sales_df['Product_Category_2'].isnull().astype(int)\n",
    "null_pc3 = sales_df['Product_Category_3'].isnull().astype(int)\n",
    "\n",
    "# Calcular la correlación\n",
    "correlation = null_pc2.corr(null_pc3)\n",
    "print(f\"Correlación entre los nulos de ProdCat2 y ProdCat3: {round(correlation, 2)}\")"
   ]
  },
  {
   "cell_type": "markdown",
   "metadata": {
    "id": "k0MVOOfXF9Gh"
   },
   "source": [
    "# Preprocesamiento"
   ]
  },
  {
   "cell_type": "markdown",
   "metadata": {
    "id": "EqNr4cwPF9Gh"
   },
   "source": [
    "Creamos una copia del DataFrame para realizar el preprocesamiento sobre éste sin modificar al objeto original."
   ]
  },
  {
   "cell_type": "code",
   "execution_count": 129,
   "metadata": {
    "id": "9p-gyeBdF9Gh"
   },
   "outputs": [],
   "source": [
    "cleaned_sales = sales_df.copy()"
   ]
  },
  {
   "cell_type": "markdown",
   "metadata": {
    "id": "BDiTT-JzF9Gh"
   },
   "source": [
    "Codificamos las varibales categóricas en valores numéricos."
   ]
  },
  {
   "cell_type": "code",
   "execution_count": 130,
   "metadata": {
    "id": "ize5eWxjF9Gi"
   },
   "outputs": [],
   "source": [
    "def generate_map(unique_values):\n",
    "    return {value: idx for idx, value in enumerate(unique_values)}"
   ]
  },
  {
   "cell_type": "code",
   "execution_count": 131,
   "metadata": {
    "colab": {
     "base_uri": "https://localhost:8080/"
    },
    "id": "l7hI-tHjF9Gi",
    "outputId": "6e397052-5707-49b4-c5c4-236b625fda35"
   },
   "outputs": [
    {
     "name": "stdout",
     "output_type": "stream",
     "text": [
      "{'F': 0, 'M': 1}\n",
      "{'0-17': 0, '18-25': 1, '26-35': 2, '36-45': 3, '46-50': 4, '51-55': 5, '55+': 6}\n",
      "{'A': 0, 'B': 1, 'C': 2}\n",
      "{'0': 0, '1': 1, '2': 2, '3': 3, '4+': 4}\n"
     ]
    }
   ],
   "source": [
    "gender_uniques = sales_df['Gender'].unique()\n",
    "age_uniques = sorted(sales_df['Age'].unique())\n",
    "city_uniques = sorted(sales_df['City_Category'].unique())\n",
    "stay_in_city_uniques = sorted(sales_df['Stay_In_Current_City_Years'].unique())\n",
    "\n",
    "gender_map = generate_map(gender_uniques)\n",
    "age_map = generate_map(age_uniques)\n",
    "city_map = generate_map(city_uniques)\n",
    "stay_in_city_map = generate_map(stay_in_city_uniques)\n",
    "\n",
    "print(gender_map)\n",
    "print(age_map)\n",
    "print(city_map)\n",
    "print(stay_in_city_map)"
   ]
  },
  {
   "cell_type": "code",
   "execution_count": 132,
   "metadata": {
    "id": "FQfQC835F9Gi"
   },
   "outputs": [],
   "source": [
    "cleaned_sales['Gender'] = sales_df['Gender'].map(gender_map)\n",
    "cleaned_sales['Age'] = sales_df['Age'].map(age_map)\n",
    "cleaned_sales['City_Category'] = sales_df['City_Category'].map(city_map)\n",
    "cleaned_sales['Stay_In_Current_City_Years'] = sales_df['Stay_In_Current_City_Years'].map(stay_in_city_map)"
   ]
  },
  {
   "cell_type": "markdown",
   "metadata": {
    "id": "I9le-CZ2F9Gi"
   },
   "source": [
    "Verificamos que el Product_ID de todos los registros cumpla con la forma “carácter ´P´ seguido de dígitos (0-9)”."
   ]
  },
  {
   "cell_type": "code",
   "execution_count": 133,
   "metadata": {
    "colab": {
     "base_uri": "https://localhost:8080/"
    },
    "id": "soIQsDnlF9Gi",
    "outputId": "9738bab7-e016-4afe-ac7e-6543bd24b6c9"
   },
   "outputs": [
    {
     "name": "stdout",
     "output_type": "stream",
     "text": [
      "True\n"
     ]
    }
   ],
   "source": [
    "cumple_formato = sales_df['Product_ID'].str.match(r'^P\\d+$').all()\n",
    "\n",
    "print(cumple_formato)"
   ]
  },
  {
   "cell_type": "markdown",
   "metadata": {
    "id": "oECLJ1oHF9Gi"
   },
   "source": [
    "Como se cumple la condición, eliminamos la \"P\" y convertimos el valor a entero."
   ]
  },
  {
   "cell_type": "code",
   "execution_count": 134,
   "metadata": {
    "id": "K5D2KWaAF9Gi"
   },
   "outputs": [],
   "source": [
    "cleaned_sales['Product_ID'] = sales_df['Product_ID'].str[1:].astype('int64')"
   ]
  },
  {
   "cell_type": "code",
   "execution_count": 135,
   "metadata": {
    "colab": {
     "base_uri": "https://localhost:8080/",
     "height": 226
    },
    "id": "VscAWZ-lF9Gj",
    "outputId": "3186aade-517b-4e94-913d-d7797c11287d"
   },
   "outputs": [
    {
     "data": {
      "text/html": [
       "<div>\n",
       "<style scoped>\n",
       "    .dataframe tbody tr th:only-of-type {\n",
       "        vertical-align: middle;\n",
       "    }\n",
       "\n",
       "    .dataframe tbody tr th {\n",
       "        vertical-align: top;\n",
       "    }\n",
       "\n",
       "    .dataframe thead th {\n",
       "        text-align: right;\n",
       "    }\n",
       "</style>\n",
       "<table border=\"1\" class=\"dataframe\">\n",
       "  <thead>\n",
       "    <tr style=\"text-align: right;\">\n",
       "      <th></th>\n",
       "      <th>User_ID</th>\n",
       "      <th>Product_ID</th>\n",
       "      <th>Gender</th>\n",
       "      <th>Age</th>\n",
       "      <th>Occupation</th>\n",
       "      <th>City_Category</th>\n",
       "      <th>Stay_In_Current_City_Years</th>\n",
       "      <th>Marital_Status</th>\n",
       "      <th>Product_Category_1</th>\n",
       "      <th>Product_Category_2</th>\n",
       "      <th>Product_Category_3</th>\n",
       "      <th>Purchase</th>\n",
       "    </tr>\n",
       "  </thead>\n",
       "  <tbody>\n",
       "    <tr>\n",
       "      <th>0</th>\n",
       "      <td>1000001</td>\n",
       "      <td>69042</td>\n",
       "      <td>0</td>\n",
       "      <td>0</td>\n",
       "      <td>10</td>\n",
       "      <td>0</td>\n",
       "      <td>2</td>\n",
       "      <td>0</td>\n",
       "      <td>3</td>\n",
       "      <td>NaN</td>\n",
       "      <td>NaN</td>\n",
       "      <td>8370</td>\n",
       "    </tr>\n",
       "    <tr>\n",
       "      <th>1</th>\n",
       "      <td>1000001</td>\n",
       "      <td>248942</td>\n",
       "      <td>0</td>\n",
       "      <td>0</td>\n",
       "      <td>10</td>\n",
       "      <td>0</td>\n",
       "      <td>2</td>\n",
       "      <td>0</td>\n",
       "      <td>1</td>\n",
       "      <td>6.0</td>\n",
       "      <td>14.0</td>\n",
       "      <td>15200</td>\n",
       "    </tr>\n",
       "    <tr>\n",
       "      <th>2</th>\n",
       "      <td>1000001</td>\n",
       "      <td>87842</td>\n",
       "      <td>0</td>\n",
       "      <td>0</td>\n",
       "      <td>10</td>\n",
       "      <td>0</td>\n",
       "      <td>2</td>\n",
       "      <td>0</td>\n",
       "      <td>12</td>\n",
       "      <td>NaN</td>\n",
       "      <td>NaN</td>\n",
       "      <td>1422</td>\n",
       "    </tr>\n",
       "    <tr>\n",
       "      <th>3</th>\n",
       "      <td>1000001</td>\n",
       "      <td>85442</td>\n",
       "      <td>0</td>\n",
       "      <td>0</td>\n",
       "      <td>10</td>\n",
       "      <td>0</td>\n",
       "      <td>2</td>\n",
       "      <td>0</td>\n",
       "      <td>12</td>\n",
       "      <td>14.0</td>\n",
       "      <td>NaN</td>\n",
       "      <td>1057</td>\n",
       "    </tr>\n",
       "    <tr>\n",
       "      <th>4</th>\n",
       "      <td>1000002</td>\n",
       "      <td>285442</td>\n",
       "      <td>1</td>\n",
       "      <td>6</td>\n",
       "      <td>16</td>\n",
       "      <td>2</td>\n",
       "      <td>4</td>\n",
       "      <td>0</td>\n",
       "      <td>8</td>\n",
       "      <td>NaN</td>\n",
       "      <td>NaN</td>\n",
       "      <td>7969</td>\n",
       "    </tr>\n",
       "  </tbody>\n",
       "</table>\n",
       "</div>"
      ],
      "text/plain": [
       "   User_ID  Product_ID  Gender  Age  Occupation  City_Category  \\\n",
       "0  1000001       69042       0    0          10              0   \n",
       "1  1000001      248942       0    0          10              0   \n",
       "2  1000001       87842       0    0          10              0   \n",
       "3  1000001       85442       0    0          10              0   \n",
       "4  1000002      285442       1    6          16              2   \n",
       "\n",
       "   Stay_In_Current_City_Years  Marital_Status  Product_Category_1  \\\n",
       "0                           2               0                   3   \n",
       "1                           2               0                   1   \n",
       "2                           2               0                  12   \n",
       "3                           2               0                  12   \n",
       "4                           4               0                   8   \n",
       "\n",
       "   Product_Category_2  Product_Category_3  Purchase  \n",
       "0                 NaN                 NaN      8370  \n",
       "1                 6.0                14.0     15200  \n",
       "2                 NaN                 NaN      1422  \n",
       "3                14.0                 NaN      1057  \n",
       "4                 NaN                 NaN      7969  "
      ]
     },
     "execution_count": 135,
     "metadata": {},
     "output_type": "execute_result"
    }
   ],
   "source": [
    "cleaned_sales.head()"
   ]
  },
  {
   "cell_type": "markdown",
   "metadata": {
    "id": "baX7c7LrF9Gj"
   },
   "source": [
    "Analizamos los valores de las columnas `Product_Category_2` y `Product_Category_3` para realizar tratamiento de valores faltantes."
   ]
  },
  {
   "cell_type": "code",
   "execution_count": 136,
   "metadata": {
    "id": "LFcmDDZ8F9Gj"
   },
   "outputs": [],
   "source": [
    "columns_with_missing_values = ['Product_Category_2', 'Product_Category_3']"
   ]
  },
  {
   "cell_type": "code",
   "execution_count": 137,
   "metadata": {
    "colab": {
     "base_uri": "https://localhost:8080/",
     "height": 591
    },
    "id": "DAXI_agFF9Gj",
    "outputId": "55b95609-70a4-412c-9484-b6b83e8b6b27"
   },
   "outputs": [
    {
     "data": {
      "image/png": "[encoded data removed]",
      "text/plain": [
       "<Figure size 1500x3500 with 4 Axes>"
      ]
     },
     "metadata": {},
     "output_type": "display_data"
    }
   ],
   "source": [
    "pyplot.figure(figsize=(15, 35))\n",
    "\n",
    "for i, variable in enumerate(columns_with_missing_values, 1):\n",
    "    pyplot.subplot(10, 2, i*2-1)\n",
    "    seaborn.histplot(sales_df[variable], bins=20, kde=True, color='skyblue')\n",
    "    pyplot.title(f'Histograma de {variable}', fontsize=18)\n",
    "    pyplot.xlabel(variable, fontsize=18)\n",
    "    pyplot.ylabel('Frecuencia', fontsize=18)\n",
    "\n",
    "    pyplot.subplot(10, 2, i*2)\n",
    "    seaborn.boxplot(x=sales_df[variable], color='lightcoral')\n",
    "    pyplot.title(f'Boxplot de {variable}', fontsize=18)\n",
    "    pyplot.xlabel(variable, fontsize=18)\n",
    "\n",
    "pyplot.subplots_adjust(hspace=0.6)\n",
    "\n",
    "pyplot.tight_layout()\n",
    "pyplot.show()\n"
   ]
  },
  {
   "cell_type": "markdown",
   "metadata": {
    "id": "g_nilB1WF9Gj"
   },
   "source": [
    "Dado que las columnas no tienen una distribución normal, se procede a imputar los valores nulos respecto a la mediana."
   ]
  },
  {
   "cell_type": "code",
   "execution_count": 138,
   "metadata": {
    "colab": {
     "base_uri": "https://localhost:8080/"
    },
    "id": "BlAWcybbF9Gj",
    "outputId": "6bec6f8d-b7b0-4509-f519-d9df9e6de09f"
   },
   "outputs": [
    {
     "name": "stdout",
     "output_type": "stream",
     "text": [
      "   Product_Category_2  Product_Category_3\n",
      "0                   9                  14\n",
      "1                   6                  14\n",
      "2                   9                  14\n",
      "3                  14                  14\n",
      "4                   9                  14\n"
     ]
    }
   ],
   "source": [
    "imp_mean = SimpleImputer(missing_values=numpy.nan, strategy='median')\n",
    "\n",
    "cleaned_sales[columns_with_missing_values] = imp_mean.fit_transform(sales_df[columns_with_missing_values]).astype('int64')\n",
    "\n",
    "print(cleaned_sales[columns_with_missing_values].head())"
   ]
  },
  {
   "cell_type": "markdown",
   "metadata": {
    "id": "djYXVru_F9Gk"
   },
   "source": [
    "Categorización ordinal de la variable objetivo `Purchase`."
   ]
  },
  {
   "cell_type": "code",
   "execution_count": 139,
   "metadata": {
    "colab": {
     "base_uri": "https://localhost:8080/",
     "height": 326
    },
    "id": "g5oMWn5fF9Gk",
    "outputId": "34dec389-5950-411e-e983-6272d8e90dd3"
   },
   "outputs": [
    {
     "data": {
      "image/png": "[encoded data removed]",
      "text/plain": [
       "<Figure size 1500x3500 with 2 Axes>"
      ]
     },
     "metadata": {},
     "output_type": "display_data"
    }
   ],
   "source": [
    "pyplot.figure(figsize=(15, 35))\n",
    "\n",
    "for i, variable in enumerate(['Purchase'], 1):\n",
    "    pyplot.subplot(10, 2, i*2-1)\n",
    "    seaborn.histplot(sales_df[variable], bins=20, kde=True, color='skyblue')\n",
    "    pyplot.title(f'Histograma de {variable}', fontsize=18)\n",
    "    pyplot.xlabel(variable, fontsize=18)\n",
    "    pyplot.ylabel('Frecuencia', fontsize=18)\n",
    "\n",
    "    pyplot.subplot(10, 2, i*2)\n",
    "    seaborn.boxplot(x=sales_df[variable], color='lightcoral')\n",
    "    pyplot.title(f'Boxplot de {variable}', fontsize=18)\n",
    "    pyplot.xlabel(variable, fontsize=18)\n",
    "\n",
    "pyplot.subplots_adjust(hspace=0.6)\n",
    "\n",
    "pyplot.tight_layout()\n",
    "pyplot.show()"
   ]
  },
  {
   "cell_type": "code",
   "execution_count": 140,
   "metadata": {
    "colab": {
     "base_uri": "https://localhost:8080/"
    },
    "id": "dIrmP9rgF9Gk",
    "outputId": "87ca6043-0593-44f9-adcf-bb4141e9f1fe"
   },
   "outputs": [
    {
     "name": "stdout",
     "output_type": "stream",
     "text": [
      "Mínimo: 12\n",
      "Máximo: 23961\n",
      "Media: 9263.968712959126\n",
      "Mediana: 8047.0\n"
     ]
    }
   ],
   "source": [
    "min_valor = sales_df['Purchase'].min()\n",
    "max_valor = sales_df['Purchase'].max()\n",
    "media = sales_df['Purchase'].mean()\n",
    "mediana = sales_df['Purchase'].median()\n",
    "\n",
    "print(f\"Mínimo: {min_valor}\")\n",
    "print(f\"Máximo: {max_valor}\")\n",
    "print(f\"Media: {media}\")\n",
    "print(f\"Mediana: {mediana}\")"
   ]
  },
  {
   "cell_type": "markdown",
   "metadata": {
    "id": "506eLJEOF9Gk"
   },
   "source": [
    "Definimos los grupos de categorización en base a los cuartiles de la columna."
   ]
  },
  {
   "cell_type": "code",
   "execution_count": 141,
   "metadata": {
    "colab": {
     "base_uri": "https://localhost:8080/"
    },
    "id": "fQum8NubF9Gk",
    "outputId": "c02067a5-5b23-43ec-8051-26b95f6cc7ee"
   },
   "outputs": [
    {
     "name": "stdout",
     "output_type": "stream",
     "text": [
      "0.25     5823.0\n",
      "0.50     8047.0\n",
      "0.75    12054.0\n",
      "Name: Purchase, dtype: float64\n"
     ]
    }
   ],
   "source": [
    "percentiles = sales_df[\"Purchase\"].quantile([0.25, 0.5, 0.75])\n",
    "\n",
    "print(percentiles)\n",
    "\n",
    "cleaned_sales[\"Purchase\"] = pandas.cut(\n",
    "    sales_df[\"Purchase\"],\n",
    "    bins=[\n",
    "        0,\n",
    "        percentiles[0.25],\n",
    "        percentiles[0.5],\n",
    "        percentiles[0.75],\n",
    "        sales_df[\"Purchase\"].max(),\n",
    "    ],\n",
    "    labels=[\"bajo\", \"medio-bajo\", \"medio-alto\", \"alto\"],\n",
    ")\n",
    "cleaned_sales[\"Purchase\"] = cleaned_sales[\"Purchase\"].cat.codes.astype(\"int64\")"
   ]
  },
  {
   "cell_type": "code",
   "execution_count": 164,
   "metadata": {},
   "outputs": [
    {
     "data": {
      "text/plain": [
       "Purchase\n",
       "1    137595\n",
       "0    137547\n",
       "3    137479\n",
       "2    137447\n",
       "Name: count, dtype: int64"
      ]
     },
     "execution_count": 164,
     "metadata": {},
     "output_type": "execute_result"
    }
   ],
   "source": [
    "cleaned_sales[\"Purchase\"].value_counts()\n"
   ]
  },
  {
   "cell_type": "code",
   "execution_count": 142,
   "metadata": {
    "colab": {
     "base_uri": "https://localhost:8080/"
    },
    "id": "JbPSil6RF9Gq",
    "outputId": "adef9ea5-0415-4b83-fbf6-55924d8692d7"
   },
   "outputs": [
    {
     "name": "stdout",
     "output_type": "stream",
     "text": [
      "                            dtype  uniques\n",
      "User_ID                     int64     5891\n",
      "Product_ID                  int64     3631\n",
      "Gender                      int64        2\n",
      "Age                         int64        7\n",
      "Occupation                  int64       21\n",
      "City_Category               int64        3\n",
      "Stay_In_Current_City_Years  int64        5\n",
      "Marital_Status              int64        2\n",
      "Product_Category_1          int64       20\n",
      "Product_Category_2          int64       17\n",
      "Product_Category_3          int64       15\n",
      "Purchase                    int64        4\n"
     ]
    }
   ],
   "source": [
    "column_types = cleaned_sales.dtypes\n",
    "uniques = cleaned_sales.nunique()\n",
    "\n",
    "column_summary = pandas.concat([column_types, uniques], axis=1, keys=[\"dtype\", \"uniques\"])\n",
    "\n",
    "print(column_summary)"
   ]
  },
  {
   "cell_type": "markdown",
   "metadata": {
    "id": "XnR1g2xkF9Gq"
   },
   "source": [
    "Con el DataFrame ya procesado a una matriz de valores enteros, procedemos a almacenarlo en el directorio de trabajo para luego utilizarlo para entrenar modelos."
   ]
  },
  {
   "cell_type": "code",
   "execution_count": 143,
   "metadata": {
    "colab": {
     "base_uri": "https://localhost:8080/",
     "height": 443
    },
    "id": "QC4A1SozF9Gq",
    "outputId": "04fdad56-c3fb-41f5-94eb-0a3a87dbd706"
   },
   "outputs": [
    {
     "data": {
      "text/html": [
       "<div>\n",
       "<style scoped>\n",
       "    .dataframe tbody tr th:only-of-type {\n",
       "        vertical-align: middle;\n",
       "    }\n",
       "\n",
       "    .dataframe tbody tr th {\n",
       "        vertical-align: top;\n",
       "    }\n",
       "\n",
       "    .dataframe thead th {\n",
       "        text-align: right;\n",
       "    }\n",
       "</style>\n",
       "<table border=\"1\" class=\"dataframe\">\n",
       "  <thead>\n",
       "    <tr style=\"text-align: right;\">\n",
       "      <th></th>\n",
       "      <th>User_ID</th>\n",
       "      <th>Product_ID</th>\n",
       "      <th>Gender</th>\n",
       "      <th>Age</th>\n",
       "      <th>Occupation</th>\n",
       "      <th>City_Category</th>\n",
       "      <th>Stay_In_Current_City_Years</th>\n",
       "      <th>Marital_Status</th>\n",
       "      <th>Product_Category_1</th>\n",
       "      <th>Product_Category_2</th>\n",
       "      <th>Product_Category_3</th>\n",
       "      <th>Purchase</th>\n",
       "    </tr>\n",
       "  </thead>\n",
       "  <tbody>\n",
       "    <tr>\n",
       "      <th>0</th>\n",
       "      <td>1000001</td>\n",
       "      <td>69042</td>\n",
       "      <td>0</td>\n",
       "      <td>0</td>\n",
       "      <td>10</td>\n",
       "      <td>0</td>\n",
       "      <td>2</td>\n",
       "      <td>0</td>\n",
       "      <td>3</td>\n",
       "      <td>9</td>\n",
       "      <td>14</td>\n",
       "      <td>2</td>\n",
       "    </tr>\n",
       "    <tr>\n",
       "      <th>1</th>\n",
       "      <td>1000001</td>\n",
       "      <td>248942</td>\n",
       "      <td>0</td>\n",
       "      <td>0</td>\n",
       "      <td>10</td>\n",
       "      <td>0</td>\n",
       "      <td>2</td>\n",
       "      <td>0</td>\n",
       "      <td>1</td>\n",
       "      <td>6</td>\n",
       "      <td>14</td>\n",
       "      <td>3</td>\n",
       "    </tr>\n",
       "    <tr>\n",
       "      <th>2</th>\n",
       "      <td>1000001</td>\n",
       "      <td>87842</td>\n",
       "      <td>0</td>\n",
       "      <td>0</td>\n",
       "      <td>10</td>\n",
       "      <td>0</td>\n",
       "      <td>2</td>\n",
       "      <td>0</td>\n",
       "      <td>12</td>\n",
       "      <td>9</td>\n",
       "      <td>14</td>\n",
       "      <td>0</td>\n",
       "    </tr>\n",
       "    <tr>\n",
       "      <th>3</th>\n",
       "      <td>1000001</td>\n",
       "      <td>85442</td>\n",
       "      <td>0</td>\n",
       "      <td>0</td>\n",
       "      <td>10</td>\n",
       "      <td>0</td>\n",
       "      <td>2</td>\n",
       "      <td>0</td>\n",
       "      <td>12</td>\n",
       "      <td>14</td>\n",
       "      <td>14</td>\n",
       "      <td>0</td>\n",
       "    </tr>\n",
       "    <tr>\n",
       "      <th>4</th>\n",
       "      <td>1000002</td>\n",
       "      <td>285442</td>\n",
       "      <td>1</td>\n",
       "      <td>6</td>\n",
       "      <td>16</td>\n",
       "      <td>2</td>\n",
       "      <td>4</td>\n",
       "      <td>0</td>\n",
       "      <td>8</td>\n",
       "      <td>9</td>\n",
       "      <td>14</td>\n",
       "      <td>1</td>\n",
       "    </tr>\n",
       "    <tr>\n",
       "      <th>...</th>\n",
       "      <td>...</td>\n",
       "      <td>...</td>\n",
       "      <td>...</td>\n",
       "      <td>...</td>\n",
       "      <td>...</td>\n",
       "      <td>...</td>\n",
       "      <td>...</td>\n",
       "      <td>...</td>\n",
       "      <td>...</td>\n",
       "      <td>...</td>\n",
       "      <td>...</td>\n",
       "      <td>...</td>\n",
       "    </tr>\n",
       "    <tr>\n",
       "      <th>550063</th>\n",
       "      <td>1006033</td>\n",
       "      <td>372445</td>\n",
       "      <td>1</td>\n",
       "      <td>5</td>\n",
       "      <td>13</td>\n",
       "      <td>1</td>\n",
       "      <td>1</td>\n",
       "      <td>1</td>\n",
       "      <td>20</td>\n",
       "      <td>9</td>\n",
       "      <td>14</td>\n",
       "      <td>0</td>\n",
       "    </tr>\n",
       "    <tr>\n",
       "      <th>550064</th>\n",
       "      <td>1006035</td>\n",
       "      <td>375436</td>\n",
       "      <td>0</td>\n",
       "      <td>2</td>\n",
       "      <td>1</td>\n",
       "      <td>2</td>\n",
       "      <td>3</td>\n",
       "      <td>0</td>\n",
       "      <td>20</td>\n",
       "      <td>9</td>\n",
       "      <td>14</td>\n",
       "      <td>0</td>\n",
       "    </tr>\n",
       "    <tr>\n",
       "      <th>550065</th>\n",
       "      <td>1006036</td>\n",
       "      <td>375436</td>\n",
       "      <td>0</td>\n",
       "      <td>2</td>\n",
       "      <td>15</td>\n",
       "      <td>1</td>\n",
       "      <td>4</td>\n",
       "      <td>1</td>\n",
       "      <td>20</td>\n",
       "      <td>9</td>\n",
       "      <td>14</td>\n",
       "      <td>0</td>\n",
       "    </tr>\n",
       "    <tr>\n",
       "      <th>550066</th>\n",
       "      <td>1006038</td>\n",
       "      <td>375436</td>\n",
       "      <td>0</td>\n",
       "      <td>6</td>\n",
       "      <td>1</td>\n",
       "      <td>2</td>\n",
       "      <td>2</td>\n",
       "      <td>0</td>\n",
       "      <td>20</td>\n",
       "      <td>9</td>\n",
       "      <td>14</td>\n",
       "      <td>0</td>\n",
       "    </tr>\n",
       "    <tr>\n",
       "      <th>550067</th>\n",
       "      <td>1006039</td>\n",
       "      <td>371644</td>\n",
       "      <td>0</td>\n",
       "      <td>4</td>\n",
       "      <td>0</td>\n",
       "      <td>1</td>\n",
       "      <td>4</td>\n",
       "      <td>1</td>\n",
       "      <td>20</td>\n",
       "      <td>9</td>\n",
       "      <td>14</td>\n",
       "      <td>0</td>\n",
       "    </tr>\n",
       "  </tbody>\n",
       "</table>\n",
       "<p>550068 rows × 12 columns</p>\n",
       "</div>"
      ],
      "text/plain": [
       "        User_ID  Product_ID  Gender  Age  Occupation  City_Category  \\\n",
       "0       1000001       69042       0    0          10              0   \n",
       "1       1000001      248942       0    0          10              0   \n",
       "2       1000001       87842       0    0          10              0   \n",
       "3       1000001       85442       0    0          10              0   \n",
       "4       1000002      285442       1    6          16              2   \n",
       "...         ...         ...     ...  ...         ...            ...   \n",
       "550063  1006033      372445       1    5          13              1   \n",
       "550064  1006035      375436       0    2           1              2   \n",
       "550065  1006036      375436       0    2          15              1   \n",
       "550066  1006038      375436       0    6           1              2   \n",
       "550067  1006039      371644       0    4           0              1   \n",
       "\n",
       "        Stay_In_Current_City_Years  Marital_Status  Product_Category_1  \\\n",
       "0                                2               0                   3   \n",
       "1                                2               0                   1   \n",
       "2                                2               0                  12   \n",
       "3                                2               0                  12   \n",
       "4                                4               0                   8   \n",
       "...                            ...             ...                 ...   \n",
       "550063                           1               1                  20   \n",
       "550064                           3               0                  20   \n",
       "550065                           4               1                  20   \n",
       "550066                           2               0                  20   \n",
       "550067                           4               1                  20   \n",
       "\n",
       "        Product_Category_2  Product_Category_3  Purchase  \n",
       "0                        9                  14         2  \n",
       "1                        6                  14         3  \n",
       "2                        9                  14         0  \n",
       "3                       14                  14         0  \n",
       "4                        9                  14         1  \n",
       "...                    ...                 ...       ...  \n",
       "550063                   9                  14         0  \n",
       "550064                   9                  14         0  \n",
       "550065                   9                  14         0  \n",
       "550066                   9                  14         0  \n",
       "550067                   9                  14         0  \n",
       "\n",
       "[550068 rows x 12 columns]"
      ]
     },
     "execution_count": 143,
     "metadata": {},
     "output_type": "execute_result"
    }
   ],
   "source": [
    "cleaned_sales"
   ]
  },
  {
   "cell_type": "code",
   "execution_count": 144,
   "metadata": {
    "colab": {
     "base_uri": "https://localhost:8080/",
     "height": 443
    },
    "id": "GyfH-EKqF9Gr",
    "outputId": "8e904e64-7e5c-4c19-abd0-e02752ac8f48"
   },
   "outputs": [
    {
     "data": {
      "text/html": [
       "<div>\n",
       "<style scoped>\n",
       "    .dataframe tbody tr th:only-of-type {\n",
       "        vertical-align: middle;\n",
       "    }\n",
       "\n",
       "    .dataframe tbody tr th {\n",
       "        vertical-align: top;\n",
       "    }\n",
       "\n",
       "    .dataframe thead th {\n",
       "        text-align: right;\n",
       "    }\n",
       "</style>\n",
       "<table border=\"1\" class=\"dataframe\">\n",
       "  <thead>\n",
       "    <tr style=\"text-align: right;\">\n",
       "      <th></th>\n",
       "      <th>Gender</th>\n",
       "      <th>Age</th>\n",
       "      <th>Occupation</th>\n",
       "      <th>City_Category</th>\n",
       "      <th>Stay_In_Current_City_Years</th>\n",
       "      <th>Marital_Status</th>\n",
       "      <th>Product_Category_1</th>\n",
       "      <th>Product_Category_2</th>\n",
       "      <th>Product_Category_3</th>\n",
       "      <th>Purchase</th>\n",
       "    </tr>\n",
       "  </thead>\n",
       "  <tbody>\n",
       "    <tr>\n",
       "      <th>0</th>\n",
       "      <td>0</td>\n",
       "      <td>0</td>\n",
       "      <td>10</td>\n",
       "      <td>0</td>\n",
       "      <td>2</td>\n",
       "      <td>0</td>\n",
       "      <td>3</td>\n",
       "      <td>9</td>\n",
       "      <td>14</td>\n",
       "      <td>2</td>\n",
       "    </tr>\n",
       "    <tr>\n",
       "      <th>1</th>\n",
       "      <td>0</td>\n",
       "      <td>0</td>\n",
       "      <td>10</td>\n",
       "      <td>0</td>\n",
       "      <td>2</td>\n",
       "      <td>0</td>\n",
       "      <td>1</td>\n",
       "      <td>6</td>\n",
       "      <td>14</td>\n",
       "      <td>3</td>\n",
       "    </tr>\n",
       "    <tr>\n",
       "      <th>2</th>\n",
       "      <td>0</td>\n",
       "      <td>0</td>\n",
       "      <td>10</td>\n",
       "      <td>0</td>\n",
       "      <td>2</td>\n",
       "      <td>0</td>\n",
       "      <td>12</td>\n",
       "      <td>9</td>\n",
       "      <td>14</td>\n",
       "      <td>0</td>\n",
       "    </tr>\n",
       "    <tr>\n",
       "      <th>3</th>\n",
       "      <td>0</td>\n",
       "      <td>0</td>\n",
       "      <td>10</td>\n",
       "      <td>0</td>\n",
       "      <td>2</td>\n",
       "      <td>0</td>\n",
       "      <td>12</td>\n",
       "      <td>14</td>\n",
       "      <td>14</td>\n",
       "      <td>0</td>\n",
       "    </tr>\n",
       "    <tr>\n",
       "      <th>4</th>\n",
       "      <td>1</td>\n",
       "      <td>6</td>\n",
       "      <td>16</td>\n",
       "      <td>2</td>\n",
       "      <td>4</td>\n",
       "      <td>0</td>\n",
       "      <td>8</td>\n",
       "      <td>9</td>\n",
       "      <td>14</td>\n",
       "      <td>1</td>\n",
       "    </tr>\n",
       "    <tr>\n",
       "      <th>...</th>\n",
       "      <td>...</td>\n",
       "      <td>...</td>\n",
       "      <td>...</td>\n",
       "      <td>...</td>\n",
       "      <td>...</td>\n",
       "      <td>...</td>\n",
       "      <td>...</td>\n",
       "      <td>...</td>\n",
       "      <td>...</td>\n",
       "      <td>...</td>\n",
       "    </tr>\n",
       "    <tr>\n",
       "      <th>550063</th>\n",
       "      <td>1</td>\n",
       "      <td>5</td>\n",
       "      <td>13</td>\n",
       "      <td>1</td>\n",
       "      <td>1</td>\n",
       "      <td>1</td>\n",
       "      <td>20</td>\n",
       "      <td>9</td>\n",
       "      <td>14</td>\n",
       "      <td>0</td>\n",
       "    </tr>\n",
       "    <tr>\n",
       "      <th>550064</th>\n",
       "      <td>0</td>\n",
       "      <td>2</td>\n",
       "      <td>1</td>\n",
       "      <td>2</td>\n",
       "      <td>3</td>\n",
       "      <td>0</td>\n",
       "      <td>20</td>\n",
       "      <td>9</td>\n",
       "      <td>14</td>\n",
       "      <td>0</td>\n",
       "    </tr>\n",
       "    <tr>\n",
       "      <th>550065</th>\n",
       "      <td>0</td>\n",
       "      <td>2</td>\n",
       "      <td>15</td>\n",
       "      <td>1</td>\n",
       "      <td>4</td>\n",
       "      <td>1</td>\n",
       "      <td>20</td>\n",
       "      <td>9</td>\n",
       "      <td>14</td>\n",
       "      <td>0</td>\n",
       "    </tr>\n",
       "    <tr>\n",
       "      <th>550066</th>\n",
       "      <td>0</td>\n",
       "      <td>6</td>\n",
       "      <td>1</td>\n",
       "      <td>2</td>\n",
       "      <td>2</td>\n",
       "      <td>0</td>\n",
       "      <td>20</td>\n",
       "      <td>9</td>\n",
       "      <td>14</td>\n",
       "      <td>0</td>\n",
       "    </tr>\n",
       "    <tr>\n",
       "      <th>550067</th>\n",
       "      <td>0</td>\n",
       "      <td>4</td>\n",
       "      <td>0</td>\n",
       "      <td>1</td>\n",
       "      <td>4</td>\n",
       "      <td>1</td>\n",
       "      <td>20</td>\n",
       "      <td>9</td>\n",
       "      <td>14</td>\n",
       "      <td>0</td>\n",
       "    </tr>\n",
       "  </tbody>\n",
       "</table>\n",
       "<p>550068 rows × 10 columns</p>\n",
       "</div>"
      ],
      "text/plain": [
       "        Gender  Age  Occupation  City_Category  Stay_In_Current_City_Years  \\\n",
       "0            0    0          10              0                           2   \n",
       "1            0    0          10              0                           2   \n",
       "2            0    0          10              0                           2   \n",
       "3            0    0          10              0                           2   \n",
       "4            1    6          16              2                           4   \n",
       "...        ...  ...         ...            ...                         ...   \n",
       "550063       1    5          13              1                           1   \n",
       "550064       0    2           1              2                           3   \n",
       "550065       0    2          15              1                           4   \n",
       "550066       0    6           1              2                           2   \n",
       "550067       0    4           0              1                           4   \n",
       "\n",
       "        Marital_Status  Product_Category_1  Product_Category_2  \\\n",
       "0                    0                   3                   9   \n",
       "1                    0                   1                   6   \n",
       "2                    0                  12                   9   \n",
       "3                    0                  12                  14   \n",
       "4                    0                   8                   9   \n",
       "...                ...                 ...                 ...   \n",
       "550063               1                  20                   9   \n",
       "550064               0                  20                   9   \n",
       "550065               1                  20                   9   \n",
       "550066               0                  20                   9   \n",
       "550067               1                  20                   9   \n",
       "\n",
       "        Product_Category_3  Purchase  \n",
       "0                       14         2  \n",
       "1                       14         3  \n",
       "2                       14         0  \n",
       "3                       14         0  \n",
       "4                       14         1  \n",
       "...                    ...       ...  \n",
       "550063                  14         0  \n",
       "550064                  14         0  \n",
       "550065                  14         0  \n",
       "550066                  14         0  \n",
       "550067                  14         0  \n",
       "\n",
       "[550068 rows x 10 columns]"
      ]
     },
     "execution_count": 144,
     "metadata": {},
     "output_type": "execute_result"
    }
   ],
   "source": [
    "cleaned_sales = cleaned_sales.drop(['User_ID', 'Product_ID'], axis=1)\n",
    "cleaned_sales"
   ]
  },
  {
   "cell_type": "markdown",
   "metadata": {},
   "source": [
    "Se guarda el DataFrame limpio como binario en el directorio"
   ]
  },
  {
   "cell_type": "code",
   "execution_count": 171,
   "metadata": {
    "id": "ine-k7-TF9Gr"
   },
   "outputs": [],
   "source": [
    "cleaned_sales.to_pickle(\"sales.pkl\")"
   ]
  },
  {
   "cell_type": "markdown",
   "metadata": {
    "id": "rdEriNZeF9Gr"
   },
   "source": [
    "# Entrenamiento de modelos"
   ]
  },
  {
   "cell_type": "code",
   "execution_count": 146,
   "metadata": {
    "id": "MZ0URnIuF9Gr"
   },
   "outputs": [],
   "source": [
    "sales_train_data = pandas.read_pickle(\"sales.pkl\")"
   ]
  },
  {
   "cell_type": "markdown",
   "metadata": {
    "id": "m8tMQqwlF9Gr"
   },
   "source": [
    "## División del dataset"
   ]
  },
  {
   "cell_type": "code",
   "execution_count": 147,
   "metadata": {
    "id": "uFN3poZsF9Gr"
   },
   "outputs": [],
   "source": [
    "y = sales_train_data.Purchase\n",
    "X = sales_train_data.drop('Purchase',axis = 1)"
   ]
  },
  {
   "cell_type": "code",
   "execution_count": 148,
   "metadata": {
    "id": "vl_XJksyF9Gr"
   },
   "outputs": [],
   "source": [
    "normalizer = Normalizer()\n",
    "\n",
    "X_normalized = normalizer.fit_transform(X)"
   ]
  },
  {
   "cell_type": "code",
   "execution_count": 165,
   "metadata": {
    "colab": {
     "base_uri": "https://localhost:8080/"
    },
    "id": "jA57vKHiF9Gs",
    "outputId": "f5396153-9ee7-4c71-bf08-42f8ffe4cd1e"
   },
   "outputs": [
    {
     "name": "stdout",
     "output_type": "stream",
     "text": [
      "Train: 440054\n",
      "Train: 440054\n",
      "Validation: 55007\n",
      "Validation: 55007\n",
      "Test: 55007\n",
      "Test: 55007\n"
     ]
    }
   ],
   "source": [
    "RANDOM_STATE = 42\n",
    "\n",
    "X_train, X_temp, y_train, y_temp = train_test_split(X_normalized, y, test_size=0.2, random_state=RANDOM_STATE, stratify=y)\n",
    "\n",
    "# División de temp en validation (50%) y test (50%), es decir, 10% del total cada uno.\n",
    "X_val, X_test, y_val, y_test = train_test_split(X_temp, y_temp, test_size=0.5, random_state=RANDOM_STATE, stratify=y_temp)\n",
    "\n",
    "# Verificar tamaños\n",
    "print(f'Train: {len(X_train)}')\n",
    "print(f'Train: {len(y_train)}')\n",
    "print(f'Validation: {len(X_val)}')\n",
    "print(f'Validation: {len(y_val)}')\n",
    "print(f'Test: {len(X_test)}')\n",
    "print(f'Test: {len(y_test)}')"
   ]
  },
  {
   "cell_type": "markdown",
   "metadata": {
    "id": "v71bVPilKq-M"
   },
   "source": [
    "### Modelo Baseline"
   ]
  },
  {
   "cell_type": "markdown",
   "metadata": {},
   "source": [
    "Entrenamiento y evaluación de modelo de Regresión Logística como modelo de base para utilizar sus benchamarks como referencia."
   ]
  },
  {
   "cell_type": "code",
   "execution_count": 151,
   "metadata": {
    "colab": {
     "base_uri": "https://localhost:8080/",
     "height": 80
    },
    "id": "kntymsI3lAQG",
    "outputId": "b10b6e42-b52e-4302-ff1c-91ddf015069d"
   },
   "outputs": [
    {
     "data": {
      "text/html": [
       "<style>#sk-container-id-1 {\n",
       "  /* Definition of color scheme common for light and dark mode */\n",
       "  --sklearn-color-text: black;\n",
       "  --sklearn-color-line: gray;\n",
       "  /* Definition of color scheme for unfitted estimators */\n",
       "  --sklearn-color-unfitted-level-0: #fff5e6;\n",
       "  --sklearn-color-unfitted-level-1: #f6e4d2;\n",
       "  --sklearn-color-unfitted-level-2: #ffe0b3;\n",
       "  --sklearn-color-unfitted-level-3: chocolate;\n",
       "  /* Definition of color scheme for fitted estimators */\n",
       "  --sklearn-color-fitted-level-0: #f0f8ff;\n",
       "  --sklearn-color-fitted-level-1: #d4ebff;\n",
       "  --sklearn-color-fitted-level-2: #b3dbfd;\n",
       "  --sklearn-color-fitted-level-3: cornflowerblue;\n",
       "\n",
       "  /* Specific color for light theme */\n",
       "  --sklearn-color-text-on-default-background: var(--sg-text-color, var(--theme-code-foreground, var(--jp-content-font-color1, black)));\n",
       "  --sklearn-color-background: var(--sg-background-color, var(--theme-background, var(--jp-layout-color0, white)));\n",
       "  --sklearn-color-border-box: var(--sg-text-color, var(--theme-code-foreground, var(--jp-content-font-color1, black)));\n",
       "  --sklearn-color-icon: #696969;\n",
       "\n",
       "  @media (prefers-color-scheme: dark) {\n",
       "    /* Redefinition of color scheme for dark theme */\n",
       "    --sklearn-color-text-on-default-background: var(--sg-text-color, var(--theme-code-foreground, var(--jp-content-font-color1, white)));\n",
       "    --sklearn-color-background: var(--sg-background-color, var(--theme-background, var(--jp-layout-color0, #111)));\n",
       "    --sklearn-color-border-box: var(--sg-text-color, var(--theme-code-foreground, var(--jp-content-font-color1, white)));\n",
       "    --sklearn-color-icon: #878787;\n",
       "  }\n",
       "}\n",
       "\n",
       "#sk-container-id-1 {\n",
       "  color: var(--sklearn-color-text);\n",
       "}\n",
       "\n",
       "#sk-container-id-1 pre {\n",
       "  padding: 0;\n",
       "}\n",
       "\n",
       "#sk-container-id-1 input.sk-hidden--visually {\n",
       "  border: 0;\n",
       "  clip: rect(1px 1px 1px 1px);\n",
       "  clip: rect(1px, 1px, 1px, 1px);\n",
       "  height: 1px;\n",
       "  margin: -1px;\n",
       "  overflow: hidden;\n",
       "  padding: 0;\n",
       "  position: absolute;\n",
       "  width: 1px;\n",
       "}\n",
       "\n",
       "#sk-container-id-1 div.sk-dashed-wrapped {\n",
       "  border: 1px dashed var(--sklearn-color-line);\n",
       "  margin: 0 0.4em 0.5em 0.4em;\n",
       "  box-sizing: border-box;\n",
       "  padding-bottom: 0.4em;\n",
       "  background-color: var(--sklearn-color-background);\n",
       "}\n",
       "\n",
       "#sk-container-id-1 div.sk-container {\n",
       "  /* jupyter's `normalize.less` sets `[hidden] { display: none; }`\n",
       "     but bootstrap.min.css set `[hidden] { display: none !important; }`\n",
       "     so we also need the `!important` here to be able to override the\n",
       "     default hidden behavior on the sphinx rendered scikit-learn.org.\n",
       "     See: https://github.com/scikit-learn/scikit-learn/issues/21755 */\n",
       "  display: inline-block !important;\n",
       "  position: relative;\n",
       "}\n",
       "\n",
       "#sk-container-id-1 div.sk-text-repr-fallback {\n",
       "  display: none;\n",
       "}\n",
       "\n",
       "div.sk-parallel-item,\n",
       "div.sk-serial,\n",
       "div.sk-item {\n",
       "  /* draw centered vertical line to link estimators */\n",
       "  background-image: linear-gradient(var(--sklearn-color-text-on-default-background), var(--sklearn-color-text-on-default-background));\n",
       "  background-size: 2px 100%;\n",
       "  background-repeat: no-repeat;\n",
       "  background-position: center center;\n",
       "}\n",
       "\n",
       "/* Parallel-specific style estimator block */\n",
       "\n",
       "#sk-container-id-1 div.sk-parallel-item::after {\n",
       "  content: \"\";\n",
       "  width: 100%;\n",
       "  border-bottom: 2px solid var(--sklearn-color-text-on-default-background);\n",
       "  flex-grow: 1;\n",
       "}\n",
       "\n",
       "#sk-container-id-1 div.sk-parallel {\n",
       "  display: flex;\n",
       "  align-items: stretch;\n",
       "  justify-content: center;\n",
       "  background-color: var(--sklearn-color-background);\n",
       "  position: relative;\n",
       "}\n",
       "\n",
       "#sk-container-id-1 div.sk-parallel-item {\n",
       "  display: flex;\n",
       "  flex-direction: column;\n",
       "}\n",
       "\n",
       "#sk-container-id-1 div.sk-parallel-item:first-child::after {\n",
       "  align-self: flex-end;\n",
       "  width: 50%;\n",
       "}\n",
       "\n",
       "#sk-container-id-1 div.sk-parallel-item:last-child::after {\n",
       "  align-self: flex-start;\n",
       "  width: 50%;\n",
       "}\n",
       "\n",
       "#sk-container-id-1 div.sk-parallel-item:only-child::after {\n",
       "  width: 0;\n",
       "}\n",
       "\n",
       "/* Serial-specific style estimator block */\n",
       "\n",
       "#sk-container-id-1 div.sk-serial {\n",
       "  display: flex;\n",
       "  flex-direction: column;\n",
       "  align-items: center;\n",
       "  background-color: var(--sklearn-color-background);\n",
       "  padding-right: 1em;\n",
       "  padding-left: 1em;\n",
       "}\n",
       "\n",
       "\n",
       "/* Toggleable style: style used for estimator/Pipeline/ColumnTransformer box that is\n",
       "clickable and can be expanded/collapsed.\n",
       "- Pipeline and ColumnTransformer use this feature and define the default style\n",
       "- Estimators will overwrite some part of the style using the `sk-estimator` class\n",
       "*/\n",
       "\n",
       "/* Pipeline and ColumnTransformer style (default) */\n",
       "\n",
       "#sk-container-id-1 div.sk-toggleable {\n",
       "  /* Default theme specific background. It is overwritten whether we have a\n",
       "  specific estimator or a Pipeline/ColumnTransformer */\n",
       "  background-color: var(--sklearn-color-background);\n",
       "}\n",
       "\n",
       "/* Toggleable label */\n",
       "#sk-container-id-1 label.sk-toggleable__label {\n",
       "  cursor: pointer;\n",
       "  display: block;\n",
       "  width: 100%;\n",
       "  margin-bottom: 0;\n",
       "  padding: 0.5em;\n",
       "  box-sizing: border-box;\n",
       "  text-align: center;\n",
       "}\n",
       "\n",
       "#sk-container-id-1 label.sk-toggleable__label-arrow:before {\n",
       "  /* Arrow on the left of the label */\n",
       "  content: \"▸\";\n",
       "  float: left;\n",
       "  margin-right: 0.25em;\n",
       "  color: var(--sklearn-color-icon);\n",
       "}\n",
       "\n",
       "#sk-container-id-1 label.sk-toggleable__label-arrow:hover:before {\n",
       "  color: var(--sklearn-color-text);\n",
       "}\n",
       "\n",
       "/* Toggleable content - dropdown */\n",
       "\n",
       "#sk-container-id-1 div.sk-toggleable__content {\n",
       "  max-height: 0;\n",
       "  max-width: 0;\n",
       "  overflow: hidden;\n",
       "  text-align: left;\n",
       "  /* unfitted */\n",
       "  background-color: var(--sklearn-color-unfitted-level-0);\n",
       "}\n",
       "\n",
       "#sk-container-id-1 div.sk-toggleable__content.fitted {\n",
       "  /* fitted */\n",
       "  background-color: var(--sklearn-color-fitted-level-0);\n",
       "}\n",
       "\n",
       "#sk-container-id-1 div.sk-toggleable__content pre {\n",
       "  margin: 0.2em;\n",
       "  border-radius: 0.25em;\n",
       "  color: var(--sklearn-color-text);\n",
       "  /* unfitted */\n",
       "  background-color: var(--sklearn-color-unfitted-level-0);\n",
       "}\n",
       "\n",
       "#sk-container-id-1 div.sk-toggleable__content.fitted pre {\n",
       "  /* unfitted */\n",
       "  background-color: var(--sklearn-color-fitted-level-0);\n",
       "}\n",
       "\n",
       "#sk-container-id-1 input.sk-toggleable__control:checked~div.sk-toggleable__content {\n",
       "  /* Expand drop-down */\n",
       "  max-height: 200px;\n",
       "  max-width: 100%;\n",
       "  overflow: auto;\n",
       "}\n",
       "\n",
       "#sk-container-id-1 input.sk-toggleable__control:checked~label.sk-toggleable__label-arrow:before {\n",
       "  content: \"▾\";\n",
       "}\n",
       "\n",
       "/* Pipeline/ColumnTransformer-specific style */\n",
       "\n",
       "#sk-container-id-1 div.sk-label input.sk-toggleable__control:checked~label.sk-toggleable__label {\n",
       "  color: var(--sklearn-color-text);\n",
       "  background-color: var(--sklearn-color-unfitted-level-2);\n",
       "}\n",
       "\n",
       "#sk-container-id-1 div.sk-label.fitted input.sk-toggleable__control:checked~label.sk-toggleable__label {\n",
       "  background-color: var(--sklearn-color-fitted-level-2);\n",
       "}\n",
       "\n",
       "/* Estimator-specific style */\n",
       "\n",
       "/* Colorize estimator box */\n",
       "#sk-container-id-1 div.sk-estimator input.sk-toggleable__control:checked~label.sk-toggleable__label {\n",
       "  /* unfitted */\n",
       "  background-color: var(--sklearn-color-unfitted-level-2);\n",
       "}\n",
       "\n",
       "#sk-container-id-1 div.sk-estimator.fitted input.sk-toggleable__control:checked~label.sk-toggleable__label {\n",
       "  /* fitted */\n",
       "  background-color: var(--sklearn-color-fitted-level-2);\n",
       "}\n",
       "\n",
       "#sk-container-id-1 div.sk-label label.sk-toggleable__label,\n",
       "#sk-container-id-1 div.sk-label label {\n",
       "  /* The background is the default theme color */\n",
       "  color: var(--sklearn-color-text-on-default-background);\n",
       "}\n",
       "\n",
       "/* On hover, darken the color of the background */\n",
       "#sk-container-id-1 div.sk-label:hover label.sk-toggleable__label {\n",
       "  color: var(--sklearn-color-text);\n",
       "  background-color: var(--sklearn-color-unfitted-level-2);\n",
       "}\n",
       "\n",
       "/* Label box, darken color on hover, fitted */\n",
       "#sk-container-id-1 div.sk-label.fitted:hover label.sk-toggleable__label.fitted {\n",
       "  color: var(--sklearn-color-text);\n",
       "  background-color: var(--sklearn-color-fitted-level-2);\n",
       "}\n",
       "\n",
       "/* Estimator label */\n",
       "\n",
       "#sk-container-id-1 div.sk-label label {\n",
       "  font-family: monospace;\n",
       "  font-weight: bold;\n",
       "  display: inline-block;\n",
       "  line-height: 1.2em;\n",
       "}\n",
       "\n",
       "#sk-container-id-1 div.sk-label-container {\n",
       "  text-align: center;\n",
       "}\n",
       "\n",
       "/* Estimator-specific */\n",
       "#sk-container-id-1 div.sk-estimator {\n",
       "  font-family: monospace;\n",
       "  border: 1px dotted var(--sklearn-color-border-box);\n",
       "  border-radius: 0.25em;\n",
       "  box-sizing: border-box;\n",
       "  margin-bottom: 0.5em;\n",
       "  /* unfitted */\n",
       "  background-color: var(--sklearn-color-unfitted-level-0);\n",
       "}\n",
       "\n",
       "#sk-container-id-1 div.sk-estimator.fitted {\n",
       "  /* fitted */\n",
       "  background-color: var(--sklearn-color-fitted-level-0);\n",
       "}\n",
       "\n",
       "/* on hover */\n",
       "#sk-container-id-1 div.sk-estimator:hover {\n",
       "  /* unfitted */\n",
       "  background-color: var(--sklearn-color-unfitted-level-2);\n",
       "}\n",
       "\n",
       "#sk-container-id-1 div.sk-estimator.fitted:hover {\n",
       "  /* fitted */\n",
       "  background-color: var(--sklearn-color-fitted-level-2);\n",
       "}\n",
       "\n",
       "/* Specification for estimator info (e.g. \"i\" and \"?\") */\n",
       "\n",
       "/* Common style for \"i\" and \"?\" */\n",
       "\n",
       ".sk-estimator-doc-link,\n",
       "a:link.sk-estimator-doc-link,\n",
       "a:visited.sk-estimator-doc-link {\n",
       "  float: right;\n",
       "  font-size: smaller;\n",
       "  line-height: 1em;\n",
       "  font-family: monospace;\n",
       "  background-color: var(--sklearn-color-background);\n",
       "  border-radius: 1em;\n",
       "  height: 1em;\n",
       "  width: 1em;\n",
       "  text-decoration: none !important;\n",
       "  margin-left: 1ex;\n",
       "  /* unfitted */\n",
       "  border: var(--sklearn-color-unfitted-level-1) 1pt solid;\n",
       "  color: var(--sklearn-color-unfitted-level-1);\n",
       "}\n",
       "\n",
       ".sk-estimator-doc-link.fitted,\n",
       "a:link.sk-estimator-doc-link.fitted,\n",
       "a:visited.sk-estimator-doc-link.fitted {\n",
       "  /* fitted */\n",
       "  border: var(--sklearn-color-fitted-level-1) 1pt solid;\n",
       "  color: var(--sklearn-color-fitted-level-1);\n",
       "}\n",
       "\n",
       "/* On hover */\n",
       "div.sk-estimator:hover .sk-estimator-doc-link:hover,\n",
       ".sk-estimator-doc-link:hover,\n",
       "div.sk-label-container:hover .sk-estimator-doc-link:hover,\n",
       ".sk-estimator-doc-link:hover {\n",
       "  /* unfitted */\n",
       "  background-color: var(--sklearn-color-unfitted-level-3);\n",
       "  color: var(--sklearn-color-background);\n",
       "  text-decoration: none;\n",
       "}\n",
       "\n",
       "div.sk-estimator.fitted:hover .sk-estimator-doc-link.fitted:hover,\n",
       ".sk-estimator-doc-link.fitted:hover,\n",
       "div.sk-label-container:hover .sk-estimator-doc-link.fitted:hover,\n",
       ".sk-estimator-doc-link.fitted:hover {\n",
       "  /* fitted */\n",
       "  background-color: var(--sklearn-color-fitted-level-3);\n",
       "  color: var(--sklearn-color-background);\n",
       "  text-decoration: none;\n",
       "}\n",
       "\n",
       "/* Span, style for the box shown on hovering the info icon */\n",
       ".sk-estimator-doc-link span {\n",
       "  display: none;\n",
       "  z-index: 9999;\n",
       "  position: relative;\n",
       "  font-weight: normal;\n",
       "  right: .2ex;\n",
       "  padding: .5ex;\n",
       "  margin: .5ex;\n",
       "  width: min-content;\n",
       "  min-width: 20ex;\n",
       "  max-width: 50ex;\n",
       "  color: var(--sklearn-color-text);\n",
       "  box-shadow: 2pt 2pt 4pt #999;\n",
       "  /* unfitted */\n",
       "  background: var(--sklearn-color-unfitted-level-0);\n",
       "  border: .5pt solid var(--sklearn-color-unfitted-level-3);\n",
       "}\n",
       "\n",
       ".sk-estimator-doc-link.fitted span {\n",
       "  /* fitted */\n",
       "  background: var(--sklearn-color-fitted-level-0);\n",
       "  border: var(--sklearn-color-fitted-level-3);\n",
       "}\n",
       "\n",
       ".sk-estimator-doc-link:hover span {\n",
       "  display: block;\n",
       "}\n",
       "\n",
       "/* \"?\"-specific style due to the `<a>` HTML tag */\n",
       "\n",
       "#sk-container-id-1 a.estimator_doc_link {\n",
       "  float: right;\n",
       "  font-size: 1rem;\n",
       "  line-height: 1em;\n",
       "  font-family: monospace;\n",
       "  background-color: var(--sklearn-color-background);\n",
       "  border-radius: 1rem;\n",
       "  height: 1rem;\n",
       "  width: 1rem;\n",
       "  text-decoration: none;\n",
       "  /* unfitted */\n",
       "  color: var(--sklearn-color-unfitted-level-1);\n",
       "  border: var(--sklearn-color-unfitted-level-1) 1pt solid;\n",
       "}\n",
       "\n",
       "#sk-container-id-1 a.estimator_doc_link.fitted {\n",
       "  /* fitted */\n",
       "  border: var(--sklearn-color-fitted-level-1) 1pt solid;\n",
       "  color: var(--sklearn-color-fitted-level-1);\n",
       "}\n",
       "\n",
       "/* On hover */\n",
       "#sk-container-id-1 a.estimator_doc_link:hover {\n",
       "  /* unfitted */\n",
       "  background-color: var(--sklearn-color-unfitted-level-3);\n",
       "  color: var(--sklearn-color-background);\n",
       "  text-decoration: none;\n",
       "}\n",
       "\n",
       "#sk-container-id-1 a.estimator_doc_link.fitted:hover {\n",
       "  /* fitted */\n",
       "  background-color: var(--sklearn-color-fitted-level-3);\n",
       "}\n",
       "</style><div id=\"sk-container-id-1\" class=\"sk-top-container\"><div class=\"sk-text-repr-fallback\"><pre>LogisticRegression(class_weight=&#x27;balanced&#x27;, random_state=42)</pre><b>In a Jupyter environment, please rerun this cell to show the HTML representation or trust the notebook. <br />On GitHub, the HTML representation is unable to render, please try loading this page with nbviewer.org.</b></div><div class=\"sk-container\" hidden><div class=\"sk-item\"><div class=\"sk-estimator fitted sk-toggleable\"><input class=\"sk-toggleable__control sk-hidden--visually\" id=\"sk-estimator-id-1\" type=\"checkbox\" checked><label for=\"sk-estimator-id-1\" class=\"sk-toggleable__label fitted sk-toggleable__label-arrow fitted\">&nbsp;&nbsp;LogisticRegression<a class=\"sk-estimator-doc-link fitted\" rel=\"noreferrer\" target=\"_blank\" href=\"https://scikit-learn.org/1.5/modules/generated/sklearn.linear_model.LogisticRegression.html\">?<span>Documentation for LogisticRegression</span></a><span class=\"sk-estimator-doc-link fitted\">i<span>Fitted</span></span></label><div class=\"sk-toggleable__content fitted\"><pre>LogisticRegression(class_weight=&#x27;balanced&#x27;, random_state=42)</pre></div> </div></div></div></div>"
      ],
      "text/plain": [
       "LogisticRegression(class_weight='balanced', random_state=42)"
      ]
     },
     "execution_count": 151,
     "metadata": {},
     "output_type": "execute_result"
    }
   ],
   "source": [
    "from sklearn.linear_model import LogisticRegression\n",
    "\n",
    "lr_clf = LogisticRegression(random_state=RANDOM_STATE, class_weight='balanced')\n",
    "lr_clf.fit(X_train, y_train)"
   ]
  },
  {
   "cell_type": "markdown",
   "metadata": {},
   "source": [
    "Elegimos el Valor-F (F1 score) como métrica para evaluación de los modelos porque proporciona un equilibrio entre la precisión y la recuperación (recall), dos métricas fundamentales en la evaluación de modelos de clasificación multiclase."
   ]
  },
  {
   "cell_type": "code",
   "execution_count": 157,
   "metadata": {},
   "outputs": [],
   "source": [
    "def metricas(a, b):\n",
    "  print(f\"Accuracy: %.4f\" % (accuracy_score(a, b)), '\\n'\n",
    "        f\"Presicion: %.4f\" % (precision_score(a, b,  average='weighted', labels=numpy.unique(b))), '\\n'\n",
    "        f\"Recall: %.4f\" % (recall_score(a, b,  average='weighted', labels=numpy.unique(b))), '\\n'\n",
    "        f\"F1: %.4f\" % (f1_score(a, b,  average='weighted', labels=numpy.unique(b))), '\\n')"
   ]
  },
  {
   "cell_type": "code",
   "execution_count": null,
   "metadata": {
    "colab": {
     "base_uri": "https://localhost:8080/"
    },
    "id": "nHZSrLe4rPKw",
    "outputId": "6b9658d6-3cd5-420a-b342-7ae9a6313b4b"
   },
   "outputs": [
    {
     "name": "stdout",
     "output_type": "stream",
     "text": [
      "Accuracy: 0.3900 \n",
      "Presicion: 0.3647 \n",
      "Recall: 0.3900 \n",
      "F1: 0.3667 \n",
      "\n"
     ]
    }
   ],
   "source": [
    "y_train_predict = lr_clf.predict(X_train)\n",
    "metricas(y_train, y_train_predict)"
   ]
  },
  {
   "cell_type": "code",
   "execution_count": 156,
   "metadata": {
    "colab": {
     "base_uri": "https://localhost:8080/"
    },
    "id": "OMRu_cA4TjWL",
    "outputId": "f97b47f5-34bf-486c-a98f-8200c80e8fff"
   },
   "outputs": [
    {
     "name": "stdout",
     "output_type": "stream",
     "text": [
      "Accuracy: 0.3889 \n",
      "Presicion: 0.3639 \n",
      "Recall: 0.3889 \n",
      "F1: 0.3660 \n",
      "\n"
     ]
    }
   ],
   "source": [
    "y_val_pred =  lr_clf.predict(X_val)\n",
    "metricas(y_val, y_val_pred)"
   ]
  },
  {
   "cell_type": "markdown",
   "metadata": {
    "id": "1ZsEkFTKd_-R"
   },
   "source": [
    "## Red Neuronal Multicapa (MLP)"
   ]
  },
  {
   "cell_type": "code",
   "execution_count": 160,
   "metadata": {
    "id": "JyOBsZ6ADeEv"
   },
   "outputs": [],
   "source": [
    "device = torch.device(\"cuda\" if torch.cuda.is_available() else \"cpu\")"
   ]
  },
  {
   "cell_type": "code",
   "execution_count": 43,
   "metadata": {
    "id": "3_MyxWMGDmqX"
   },
   "outputs": [],
   "source": [
    "# Convertir datos a tensores\n",
    "X_train_tensor = torch.tensor(X_train, dtype=torch.float32).to(device)\n",
    "y_train_tensor = torch.tensor(y_train.values.ravel(), dtype=torch.long).to(device)\n",
    "X_val_tensor = torch.tensor(X_val, dtype=torch.float32).to(device)\n",
    "y_val_tensor = torch.tensor(y_val.values.ravel(), dtype=torch.long).to(device)\n",
    "X_test_tensor = torch.tensor(X_test, dtype=torch.float32).to(device)\n",
    "y_test_tensor = torch.tensor(y_test.values.ravel(), dtype=torch.long).to(device)"
   ]
  },
  {
   "cell_type": "code",
   "execution_count": 44,
   "metadata": {
    "id": "eHvTXOIUeEJ0"
   },
   "outputs": [],
   "source": [
    "batch_size = 64\n",
    "\n",
    "# Crear conjuntos de datos y DataLoaders\n",
    "train_dataset = TensorDataset(X_train_tensor, y_train_tensor)\n",
    "val_dataset = TensorDataset(X_val_tensor, y_val_tensor)\n",
    "test_dataset = TensorDataset(X_test_tensor, y_test_tensor)\n",
    "\n",
    "train_loader = DataLoader(train_dataset, batch_size=batch_size, shuffle=True)\n",
    "val_loader = DataLoader(val_dataset, batch_size=batch_size, shuffle=False)\n",
    "test_loader = DataLoader(test_dataset, batch_size=batch_size, shuffle=False)"
   ]
  },
  {
   "cell_type": "markdown",
   "metadata": {},
   "source": [
    "Arquitectura de la red"
   ]
  },
  {
   "cell_type": "code",
   "execution_count": 169,
   "metadata": {
    "id": "4HOJ_rdTeKTP"
   },
   "outputs": [],
   "source": [
    "class MLP(nn.Module):\n",
    "    def __init__(self, input_size, output_size):\n",
    "        super(MLP, self).__init__()\n",
    "        self.fc1 = nn.Linear(input_size, 256)\n",
    "        self.fc2 = nn.Linear(256, 128)\n",
    "        self.fc3 = nn.Linear(128, 64)\n",
    "        self.fc4 = nn.Linear(64, output_size)\n",
    "        self.relu = nn.ReLU()\n",
    "\n",
    "    def forward(self, x):\n",
    "        x = self.relu(self.fc1(x))\n",
    "        x = self.relu(self.fc2(x))\n",
    "        x = self.relu(self.fc3(x))\n",
    "        return self.fc4(x)\n",
    "\n",
    "input_size = X_train.shape[1]\n",
    "output_size = len(numpy.unique(y_train))\n",
    "model = MLP(input_size, output_size).to(device)"
   ]
  },
  {
   "cell_type": "code",
   "execution_count": 170,
   "metadata": {},
   "outputs": [
    {
     "data": {
      "text/plain": [
       "MLP(\n",
       "  (fc1): Linear(in_features=9, out_features=256, bias=True)\n",
       "  (fc2): Linear(in_features=256, out_features=128, bias=True)\n",
       "  (fc3): Linear(in_features=128, out_features=64, bias=True)\n",
       "  (fc4): Linear(in_features=64, out_features=4, bias=True)\n",
       "  (relu): ReLU()\n",
       ")"
      ]
     },
     "execution_count": 170,
     "metadata": {},
     "output_type": "execute_result"
    }
   ],
   "source": [
    "model"
   ]
  },
  {
   "cell_type": "code",
   "execution_count": 161,
   "metadata": {
    "id": "QnR3HltvDWEL"
   },
   "outputs": [],
   "source": [
    "class_counts = y_train.value_counts().to_list()\n",
    "total_samples = sum(class_counts)\n",
    "weights = torch.tensor([total_samples / c for c in class_counts], dtype=torch.float32).to(device)"
   ]
  },
  {
   "cell_type": "markdown",
   "metadata": {},
   "source": [
    "* class_counts es la cantidad de muestras por cada clase en y_train.\n",
    "* weights es un Tensor que contiene un peso inversamente proporcional a la cantidad de muestras en cada clase\n",
    "\n",
    "Si una clase tiene menos muestras, su peso será mayor, lo que obliga al modelo a prestarle más atención.\n",
    "\n",
    "El parámetro `weight` en la función de pérdida `CrossEntropyLoss` hace que las clases menos representadas tengan un mayor impacto en la penalización.\n",
    "Esto reduce el sesgo del modelo hacia la clase mayoritaria y ayuda a mejorar la predicción de clases minoritarias."
   ]
  },
  {
   "cell_type": "code",
   "execution_count": null,
   "metadata": {
    "id": "Yagt_MiZeLiz"
   },
   "outputs": [],
   "source": [
    "loss_function = nn.CrossEntropyLoss(weight=weights)\n",
    "optimizer = optim.SGD(model.parameters(), lr=0.01, weight_decay=1e-4)  # penalty"
   ]
  },
  {
   "cell_type": "markdown",
   "metadata": {
    "id": "yHbUCVtjQZrC"
   },
   "source": [
    "Entrenamiento"
   ]
  },
  {
   "cell_type": "code",
   "execution_count": null,
   "metadata": {
    "colab": {
     "base_uri": "https://localhost:8080/"
    },
    "id": "c-xczFNUd_JN",
    "outputId": "aa549d73-0461-42f6-afd0-498d317e2c21"
   },
   "outputs": [
    {
     "name": "stdout",
     "output_type": "stream",
     "text": [
      " Epoch 0 | Train/Val loss: 1.330 / 1.254 | Train/Val F1-score: 0.326 / 0.330\n",
      " Epoch 1 | Train/Val loss: 1.242 / 1.231 | Train/Val F1-score: 0.370 / 0.369\n",
      " Epoch 2 | Train/Val loss: 1.214 / 1.193 | Train/Val F1-score: 0.398 / 0.402\n",
      " Epoch 3 | Train/Val loss: 1.174 / 1.165 | Train/Val F1-score: 0.424 / 0.416\n",
      " Epoch 4 | Train/Val loss: 1.162 / 1.162 | Train/Val F1-score: 0.415 / 0.423\n",
      " Epoch 5 | Train/Val loss: 1.159 / 1.159 | Train/Val F1-score: 0.414 / 0.417\n",
      " Epoch 6 | Train/Val loss: 1.155 / 1.154 | Train/Val F1-score: 0.417 / 0.418\n",
      " Epoch 7 | Train/Val loss: 1.151 / 1.147 | Train/Val F1-score: 0.422 / 0.424\n",
      " Epoch 8 | Train/Val loss: 1.144 / 1.137 | Train/Val F1-score: 0.431 / 0.426\n",
      " Epoch 9 | Train/Val loss: 1.131 / 1.120 | Train/Val F1-score: 0.440 / 0.437\n",
      " Epoch 10 | Train/Val loss: 1.112 / 1.096 | Train/Val F1-score: 0.449 / 0.459\n",
      " Epoch 11 | Train/Val loss: 1.087 / 1.085 | Train/Val F1-score: 0.467 / 0.459\n",
      " Epoch 12 | Train/Val loss: 1.068 / 1.050 | Train/Val F1-score: 0.478 / 0.477\n",
      " Epoch 13 | Train/Val loss: 1.059 / 1.055 | Train/Val F1-score: 0.479 / 0.468\n",
      " Epoch 14 | Train/Val loss: 1.052 / 1.063 | Train/Val F1-score: 0.480 / 0.487\n",
      " Epoch 15 | Train/Val loss: 1.047 / 1.054 | Train/Val F1-score: 0.481 / 0.480\n",
      " Epoch 16 | Train/Val loss: 1.043 / 1.048 | Train/Val F1-score: 0.482 / 0.485\n",
      " Epoch 17 | Train/Val loss: 1.038 / 1.027 | Train/Val F1-score: 0.483 / 0.471\n",
      " Epoch 18 | Train/Val loss: 1.034 / 1.025 | Train/Val F1-score: 0.484 / 0.470\n",
      " Epoch 19 | Train/Val loss: 1.031 / 1.033 | Train/Val F1-score: 0.485 / 0.496\n",
      " Epoch 20 | Train/Val loss: 1.027 / 1.016 | Train/Val F1-score: 0.486 / 0.493\n",
      " Epoch 21 | Train/Val loss: 1.023 / 1.014 | Train/Val F1-score: 0.487 / 0.474\n",
      " Epoch 22 | Train/Val loss: 1.019 / 1.014 | Train/Val F1-score: 0.488 / 0.488\n",
      " Epoch 23 | Train/Val loss: 1.016 / 1.008 | Train/Val F1-score: 0.490 / 0.499\n",
      " Epoch 24 | Train/Val loss: 1.012 / 1.016 | Train/Val F1-score: 0.491 / 0.451\n",
      " Epoch 25 | Train/Val loss: 1.010 / 0.998 | Train/Val F1-score: 0.491 / 0.499\n",
      " Epoch 26 | Train/Val loss: 1.007 / 1.004 | Train/Val F1-score: 0.492 / 0.490\n",
      " Epoch 27 | Train/Val loss: 1.004 / 1.000 | Train/Val F1-score: 0.493 / 0.500\n",
      " Epoch 28 | Train/Val loss: 1.002 / 1.014 | Train/Val F1-score: 0.494 / 0.478\n",
      " Epoch 29 | Train/Val loss: 1.000 / 0.991 | Train/Val F1-score: 0.495 / 0.499\n",
      " Epoch 30 | Train/Val loss: 0.998 / 0.989 | Train/Val F1-score: 0.496 / 0.497\n",
      " Epoch 31 | Train/Val loss: 0.996 / 0.995 | Train/Val F1-score: 0.496 / 0.498\n",
      " Epoch 32 | Train/Val loss: 0.994 / 0.995 | Train/Val F1-score: 0.496 / 0.503\n",
      " Epoch 33 | Train/Val loss: 0.992 / 0.984 | Train/Val F1-score: 0.497 / 0.504\n",
      " Epoch 34 | Train/Val loss: 0.991 / 0.978 | Train/Val F1-score: 0.498 / 0.494\n",
      " Epoch 35 | Train/Val loss: 0.989 / 0.978 | Train/Val F1-score: 0.498 / 0.501\n",
      " Epoch 36 | Train/Val loss: 0.988 / 1.001 | Train/Val F1-score: 0.498 / 0.476\n",
      " Epoch 37 | Train/Val loss: 0.986 / 0.982 | Train/Val F1-score: 0.499 / 0.512\n",
      " Epoch 38 | Train/Val loss: 0.985 / 0.984 | Train/Val F1-score: 0.499 / 0.503\n",
      " Epoch 39 | Train/Val loss: 0.983 / 0.973 | Train/Val F1-score: 0.500 / 0.491\n"
     ]
    }
   ],
   "source": [
    "epochs = 40\n",
    "train_loss_by_epoch = []\n",
    "valid_loss_by_epoch = []\n",
    "train_metric_by_epoch = []\n",
    "valid_metric_by_epoch = []\n",
    "\n",
    "for epoch in range(epochs):\n",
    "    model.train()\n",
    "    epoch_loss = 0\n",
    "    epoch_y, epoch_y_hat = [], []\n",
    "\n",
    "    for x_batch, y_batch in train_loader:\n",
    "        x_batch, y_batch = x_batch.to(device), y_batch.to(device)\n",
    "\n",
    "        optimizer.zero_grad()\n",
    "        mlp_output = model(x_batch)\n",
    "\n",
    "        loss = loss_function(mlp_output, y_batch)\n",
    "        loss.backward()\n",
    "        optimizer.step()\n",
    "\n",
    "        epoch_y.extend(y_batch.cpu().numpy())\n",
    "        epoch_y_hat.extend(torch.argmax(mlp_output, dim=1).cpu().numpy())\n",
    "        epoch_loss += loss.item()\n",
    "\n",
    "    train_loss_by_epoch.append(epoch_loss / len(train_loader))\n",
    "    train_metric_by_epoch.append(f1_score(epoch_y, epoch_y_hat, average='weighted'))\n",
    "\n",
    "    # Validación\n",
    "    model.eval()\n",
    "    valid_epoch_loss = 0\n",
    "    valid_epoch_y, valid_epoch_y_hat = [], []\n",
    "\n",
    "    with torch.no_grad():\n",
    "        for x_batch, y_batch in val_loader:\n",
    "            x_batch, y_batch = x_batch.to(device), y_batch.to(device)\n",
    "\n",
    "            mlp_output = model(x_batch)\n",
    "            loss = loss_function(mlp_output, y_batch)\n",
    "\n",
    "            valid_epoch_y.extend(y_batch.cpu().numpy())\n",
    "            valid_epoch_y_hat.extend(torch.argmax(mlp_output, dim=1).cpu().numpy())\n",
    "            valid_epoch_loss += loss.item()\n",
    "\n",
    "    valid_loss_by_epoch.append(valid_epoch_loss / len(val_loader))\n",
    "    valid_metric_by_epoch.append(f1_score(valid_epoch_y, valid_epoch_y_hat, average='weighted'))\n",
    "\n",
    "    print(f\" Epoch {epoch} | \"\n",
    "          f\"Train/Val loss: {train_loss_by_epoch[-1]:.3f} / {valid_loss_by_epoch[-1]:.3f} | \"\n",
    "          f\"Train/Val F1-score: {train_metric_by_epoch[-1]:.3f} / {valid_metric_by_epoch[-1]:.3f}\")\n"
   ]
  },
  {
   "cell_type": "markdown",
   "metadata": {
    "id": "juiTagMpPm6D"
   },
   "source": [
    "### Gráficos"
   ]
  },
  {
   "cell_type": "code",
   "execution_count": null,
   "metadata": {
    "colab": {
     "base_uri": "https://localhost:8080/",
     "height": 414
    },
    "id": "lm4OhdRpOZ4m",
    "outputId": "eef8cda7-98ea-4605-b1ad-2a4ac24de1fd"
   },
   "outputs": [
    {
     "data": {
      "image/png": "[encoded data removed]",
      "text/plain": [
       "<Figure size 1500x500 with 4 Axes>"
      ]
     },
     "metadata": {},
     "output_type": "display_data"
    }
   ],
   "source": [
    "conf_matrix = confusion_matrix(valid_epoch_y, valid_epoch_y_hat)\n",
    "\n",
    "# subplots\n",
    "fig, axes = pyplot.subplots(1, 3, figsize=(15, 5))\n",
    "\n",
    "# Loss\n",
    "axes[0].plot(range(1, epochs + 1), train_loss_by_epoch, label=\"Train Loss\", color='blue', linestyle='--')\n",
    "axes[0].plot(range(1, epochs + 1), valid_loss_by_epoch, label=\"Validation Loss\", color='red')\n",
    "axes[0].set_title(\"Loss over Epochs\")\n",
    "axes[0].set_xlabel(\"Epochs\")\n",
    "axes[0].set_ylabel(\"Loss\")\n",
    "axes[0].legend()\n",
    "axes[0].grid()\n",
    "\n",
    "# F1-score\n",
    "axes[1].plot(range(1, epochs + 1), train_metric_by_epoch, label=\"Train F1-score\", color='blue', linestyle='--')\n",
    "axes[1].plot(range(1, epochs + 1), valid_metric_by_epoch, label=\"Validation F1-score\", color='red')\n",
    "axes[1].set_title(\"F1-score over Epochs\")\n",
    "axes[1].set_xlabel(\"Epochs\")\n",
    "axes[1].set_ylabel(\"F1-score\")\n",
    "axes[1].legend()\n",
    "axes[1].grid()\n",
    "\n",
    "# Matriz de Confusión\n",
    "seaborn.heatmap(conf_matrix, annot=True, fmt=\"d\", cmap=\"Blues\", ax=axes[2])\n",
    "axes[2].set_title(\"Confusion Matrix\")\n",
    "axes[2].set_xlabel(\"Predicted Label\")\n",
    "axes[2].set_ylabel(\"True Label\")\n",
    "\n",
    "pyplot.tight_layout()\n",
    "pyplot.show()"
   ]
  },
  {
   "cell_type": "markdown",
   "metadata": {
    "id": "cbEkhT6pP79D"
   },
   "source": [
    "# Conclusiones"
   ]
  },
  {
   "cell_type": "markdown",
   "metadata": {},
   "source": [
    "Al analizar la matriz de confusión del modelo, se pueden realizar las siguientes observaciones:\n",
    "\n",
    "Mientras que el modelo realiza buenas predicciones para las clases extremas (clase 0, monto bajo; clase 3, monto alto), para las clases intermedias (clase 1, medio-bajo; clase 2, medio-alto) se presenta una alta confusión con otras clases, lo que indica que el modelo tiene dificultades para distinguir montos medios.\n",
    "\n",
    "Estas confuciones (tanto para las clases extremas como intermedias) ocurren principalmente con clases vecinas. Por ejemplo, la clase 2 se predice como 1 en 3,727 casos y como 3 en 5,744 casos.\n",
    "\n",
    "Esto sugiere que la representación de los montos medios (clases 1 y 2) no está bien diferenciada en el espacio de características.\n",
    "\n",
    "Teniendo en cuenta que la discretización de la variable continua \"Purchase\" se realizó definiendo los límites entre las clases utilizando los percentiles 25%, 50% y 75%, los valores de la variable y sus rangos quedaron de la siguiente manera:\n",
    "\n",
    "| Mínimo | P25   | P50   | P75    | Máximo |\n",
    "|--------|-------|-------|--------|--------|\n",
    "| 12     | 5.823 | 8.047 | 12.054 | 23.961 |\n",
    "\n",
    "Lo que dio lugar a las siguientes cuatro categorías de los valores de \"Purchase\":\n",
    "\n",
    "* Bajo (0): 12 a 5.823\n",
    "* Medio-bajo (1): 5.823 a 8.047\n",
    "* Medio-alto (2): 8.047 a 12.054\n",
    "* Alto (3): 12.054 a 23.961\n",
    "\n",
    "Al observar el tamaño de los intervalos, se nota que las clases intermedias (1 y 2) son más pequeñas en comparación con las categorías extremas, que abarcan rango mayores. Además, las diferencias entre los valores en las clases 1 y 2 son relativamente pequeñas, lo que podría estar dificultando la diferenciación entre ellas durante el entrenamiento del modelo.\n",
    "\n",
    "Esto puede explicar la alta confusión en la clasificación de las clases intermedias, ya que los valores de \"Purchase\" en estos rangos están muy próximos y no presentan una separación clara en el espacio de características del modelo. También explica el buen desempeño del modelo para clasificar elementos de la categoría \"Alto\", ya que esta es la clase con el rango más amplio.\n",
    "\n",
    "Es importante notar también que la categorización de la variable objetivo se realizó de manera progresiva, asignando etiquetas numéricas de menor a mayor según el monto de compra.\n",
    "\n",
    "Dado que estos valores representan niveles de compra en una escala lineal, el modelo aprende que existe un orden inherente entre las clases. Sin embargo, al tratar la variable categorizada forma puramente lineal sin considerar la diferencia de escala entre los rangos de las clases, el modelo no necesariamente aprende que la diferencia entre 1 y 2 es menor que la diferencia entre 2 y 3.\n",
    "\n",
    "Esta falta de información sobre las escalas de las clases puede ser una de las razones por las que el modelo tiene dificultades en la distinción de los montos intermedios, y explicaría la confusión observada en la matriz de confusión.\n"
   ]
  },
  {
   "cell_type": "markdown",
   "metadata": {},
   "source": [
    "## Posibles mejoras"
   ]
  },
  {
   "cell_type": "markdown",
   "metadata": {},
   "source": [
    "Para mejorar la capacidad del modelo en la clasificación de montos intermedios, se pueden considerar las siguientes estrategias:\n",
    "\n",
    "Revisión de la discretización: Ajustar los umbrales de las clases para equilibrar mejor los tamaños de los intervalos y reducir la superposición entre los montos intermedios. Se podría explorar el uso de técnicas como clustering (por ejemplo, k-means) para definir las categorías de manera más representativa.\n",
    "\n",
    "Uso de técnicas de reescalado: Dado que la variable objetivo tiene una estructura ordinal, se podría aplicar técnicas de codificación que preserven mejor las relaciones entre las clases, como la codificación ordinal o embeddings específicos para datos categóricos ordenados.\n",
    "\n",
    "Modelos con sensibilidad a la estructura ordinal: Explorar algoritmos que consideren la naturaleza ordinal de la variable objetivo, como regresión ordinal, modelos basados en árboles con pérdida específica para clasificación ordinal o redes neuronales con salidas ordenadas."
   ]
  }
 ],
 "metadata": {
  "colab": {
   "provenance": [],
   "toc_visible": true
  },
  "kernelspec": {
   "display_name": "Python 3",
   "language": "python",
   "name": "python3"
  },
  "language_info": {
   "codemirror_mode": {
    "name": "ipython",
    "version": 3
   },
   "file_extension": ".py",
   "mimetype": "text/x-python",
   "name": "python",
   "nbconvert_exporter": "python",
   "pygments_lexer": "ipython3",
   "version": "3.11.0"
  }
 },
 "nbformat": 4,
 "nbformat_minor": 0
}
